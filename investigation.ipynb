{
 "cells": [
  {
   "cell_type": "code",
   "execution_count": 3,
   "metadata": {},
   "outputs": [],
   "source": [
    "import pandas as pd\n",
    "import numpy as np\n",
    "import matplotlib.pyplot as plt\n",
    "from io import StringIO\n",
    "from matplotlib.ticker import MaxNLocator\n",
    "from collections import namedtuple\n",
    "import matplotlib.patches as mpatches\n",
    "from scipy import stats\n",
    "\n",
    "import re\n",
    "import copy"
   ]
  },
  {
   "cell_type": "code",
   "execution_count": 4,
   "metadata": {},
   "outputs": [],
   "source": [
    "prStatusByCounry = pd.read_csv(\"StatusByCountry.csv\")"
   ]
  },
  {
   "cell_type": "code",
   "execution_count": 5,
   "metadata": {},
   "outputs": [
    {
     "data": {
      "text/html": [
       "<div>\n",
       "<style scoped>\n",
       "    .dataframe tbody tr th:only-of-type {\n",
       "        vertical-align: middle;\n",
       "    }\n",
       "\n",
       "    .dataframe tbody tr th {\n",
       "        vertical-align: top;\n",
       "    }\n",
       "\n",
       "    .dataframe thead th {\n",
       "        text-align: right;\n",
       "    }\n",
       "</style>\n",
       "<table border=\"1\" class=\"dataframe\">\n",
       "  <thead>\n",
       "    <tr style=\"text-align: right;\">\n",
       "      <th></th>\n",
       "      <th>name</th>\n",
       "      <th>prostitutionStatus</th>\n",
       "      <th>pop2019</th>\n",
       "    </tr>\n",
       "  </thead>\n",
       "  <tbody>\n",
       "    <tr>\n",
       "      <td>40</td>\n",
       "      <td>Guyana</td>\n",
       "      <td>Illegal</td>\n",
       "      <td>782.766</td>\n",
       "    </tr>\n",
       "    <tr>\n",
       "      <td>80</td>\n",
       "      <td>Saudi Arabia</td>\n",
       "      <td>Illegal</td>\n",
       "      <td>34268.528</td>\n",
       "    </tr>\n",
       "    <tr>\n",
       "      <td>88</td>\n",
       "      <td>Suriname</td>\n",
       "      <td>Illegal</td>\n",
       "      <td>581.372</td>\n",
       "    </tr>\n",
       "    <tr>\n",
       "      <td>18</td>\n",
       "      <td>Chile</td>\n",
       "      <td>Legal</td>\n",
       "      <td>18952.038</td>\n",
       "    </tr>\n",
       "    <tr>\n",
       "      <td>78</td>\n",
       "      <td>Saint Lucia</td>\n",
       "      <td>Illegal</td>\n",
       "      <td>182.790</td>\n",
       "    </tr>\n",
       "    <tr>\n",
       "      <td>...</td>\n",
       "      <td>...</td>\n",
       "      <td>...</td>\n",
       "      <td>...</td>\n",
       "    </tr>\n",
       "    <tr>\n",
       "      <td>49</td>\n",
       "      <td>Ireland</td>\n",
       "      <td>Limitedly legal</td>\n",
       "      <td>4882.495</td>\n",
       "    </tr>\n",
       "    <tr>\n",
       "      <td>0</td>\n",
       "      <td>Afghanistan</td>\n",
       "      <td>Illegal</td>\n",
       "      <td>38041.754</td>\n",
       "    </tr>\n",
       "    <tr>\n",
       "      <td>32</td>\n",
       "      <td>Estonia</td>\n",
       "      <td>Legal</td>\n",
       "      <td>1325.648</td>\n",
       "    </tr>\n",
       "    <tr>\n",
       "      <td>70</td>\n",
       "      <td>Paraguay</td>\n",
       "      <td>Legal</td>\n",
       "      <td>7044.636</td>\n",
       "    </tr>\n",
       "    <tr>\n",
       "      <td>87</td>\n",
       "      <td>Spain</td>\n",
       "      <td>Legal</td>\n",
       "      <td>46736.776</td>\n",
       "    </tr>\n",
       "  </tbody>\n",
       "</table>\n",
       "<p>100 rows × 3 columns</p>\n",
       "</div>"
      ],
      "text/plain": [
       "            name prostitutionStatus    pop2019\n",
       "40        Guyana            Illegal    782.766\n",
       "80  Saudi Arabia            Illegal  34268.528\n",
       "88      Suriname            Illegal    581.372\n",
       "18         Chile              Legal  18952.038\n",
       "78   Saint Lucia            Illegal    182.790\n",
       "..           ...                ...        ...\n",
       "49       Ireland    Limitedly legal   4882.495\n",
       "0    Afghanistan            Illegal  38041.754\n",
       "32       Estonia              Legal   1325.648\n",
       "70      Paraguay              Legal   7044.636\n",
       "87         Spain              Legal  46736.776\n",
       "\n",
       "[100 rows x 3 columns]"
      ]
     },
     "execution_count": 5,
     "metadata": {},
     "output_type": "execute_result"
    }
   ],
   "source": [
    "prStatusByCounrySample = prStatusByCounry.sample(frac=1)\n",
    "prStatusByCounrySample"
   ]
  },
  {
   "cell_type": "code",
   "execution_count": 6,
   "metadata": {},
   "outputs": [],
   "source": [
    "prNumberByCounry = pd.read_csv(\"ProstitutesNumber.csv\")"
   ]
  },
  {
   "cell_type": "code",
   "execution_count": 7,
   "metadata": {},
   "outputs": [
    {
     "data": {
      "text/html": [
       "<div>\n",
       "<style scoped>\n",
       "    .dataframe tbody tr th:only-of-type {\n",
       "        vertical-align: middle;\n",
       "    }\n",
       "\n",
       "    .dataframe tbody tr th {\n",
       "        vertical-align: top;\n",
       "    }\n",
       "\n",
       "    .dataframe thead th {\n",
       "        text-align: right;\n",
       "    }\n",
       "</style>\n",
       "<table border=\"1\" class=\"dataframe\">\n",
       "  <thead>\n",
       "    <tr style=\"text-align: right;\">\n",
       "      <th></th>\n",
       "      <th>Country</th>\n",
       "      <th>Number of prostitutesSource: UNAIDS 2016Sex Workers: Size Estimates[4]</th>\n",
       "      <th>Number of prostitutesOther sources and year</th>\n",
       "      <th>Population[5]</th>\n",
       "      <th>Prevalence(prostitutes per10,000 population)</th>\n",
       "    </tr>\n",
       "  </thead>\n",
       "  <tbody>\n",
       "    <tr>\n",
       "      <td>135</td>\n",
       "      <td>Serbia</td>\n",
       "      <td>3,900</td>\n",
       "      <td>NaN</td>\n",
       "      <td>8,820,083</td>\n",
       "      <td>4</td>\n",
       "    </tr>\n",
       "    <tr>\n",
       "      <td>69</td>\n",
       "      <td>India</td>\n",
       "      <td>660,000</td>\n",
       "      <td>NaN</td>\n",
       "      <td>1,324,171,354</td>\n",
       "      <td>5</td>\n",
       "    </tr>\n",
       "    <tr>\n",
       "      <td>62</td>\n",
       "      <td>Guatemala</td>\n",
       "      <td>26,000</td>\n",
       "      <td>NaN</td>\n",
       "      <td>16,582,469</td>\n",
       "      <td>16</td>\n",
       "    </tr>\n",
       "    <tr>\n",
       "      <td>129</td>\n",
       "      <td>Russia</td>\n",
       "      <td>NaN</td>\n",
       "      <td>3,000,000 (2006)[25]</td>\n",
       "      <td>143,964,513</td>\n",
       "      <td>208</td>\n",
       "    </tr>\n",
       "    <tr>\n",
       "      <td>70</td>\n",
       "      <td>Indonesia</td>\n",
       "      <td>230,000</td>\n",
       "      <td>NaN</td>\n",
       "      <td>261,115,456</td>\n",
       "      <td>9</td>\n",
       "    </tr>\n",
       "    <tr>\n",
       "      <td>...</td>\n",
       "      <td>...</td>\n",
       "      <td>...</td>\n",
       "      <td>...</td>\n",
       "      <td>...</td>\n",
       "      <td>...</td>\n",
       "    </tr>\n",
       "    <tr>\n",
       "      <td>64</td>\n",
       "      <td>Guinea-Bissau</td>\n",
       "      <td>3,100</td>\n",
       "      <td>NaN</td>\n",
       "      <td>1,815,698</td>\n",
       "      <td>17</td>\n",
       "    </tr>\n",
       "    <tr>\n",
       "      <td>21</td>\n",
       "      <td>Bulgaria</td>\n",
       "      <td>10,000</td>\n",
       "      <td>NaN</td>\n",
       "      <td>7,131,494</td>\n",
       "      <td>14</td>\n",
       "    </tr>\n",
       "    <tr>\n",
       "      <td>19</td>\n",
       "      <td>Botswana</td>\n",
       "      <td>4,200</td>\n",
       "      <td>NaN</td>\n",
       "      <td>2,250,260</td>\n",
       "      <td>19</td>\n",
       "    </tr>\n",
       "    <tr>\n",
       "      <td>148</td>\n",
       "      <td>Suriname</td>\n",
       "      <td>2,200</td>\n",
       "      <td>NaN</td>\n",
       "      <td>558,368</td>\n",
       "      <td>39</td>\n",
       "    </tr>\n",
       "    <tr>\n",
       "      <td>34</td>\n",
       "      <td>Congo</td>\n",
       "      <td>NaN</td>\n",
       "      <td>No data</td>\n",
       "      <td>5,125,821</td>\n",
       "      <td>-</td>\n",
       "    </tr>\n",
       "  </tbody>\n",
       "</table>\n",
       "<p>177 rows × 5 columns</p>\n",
       "</div>"
      ],
      "text/plain": [
       "           Country  \\\n",
       "135         Serbia   \n",
       "69           India   \n",
       "62       Guatemala   \n",
       "129         Russia   \n",
       "70       Indonesia   \n",
       "..             ...   \n",
       "64   Guinea-Bissau   \n",
       "21        Bulgaria   \n",
       "19        Botswana   \n",
       "148       Suriname   \n",
       "34           Congo   \n",
       "\n",
       "    Number of prostitutesSource: UNAIDS 2016Sex Workers: Size Estimates[4]  \\\n",
       "135                                              3,900                       \n",
       "69                                             660,000                       \n",
       "62                                              26,000                       \n",
       "129                                                NaN                       \n",
       "70                                             230,000                       \n",
       "..                                                 ...                       \n",
       "64                                               3,100                       \n",
       "21                                              10,000                       \n",
       "19                                               4,200                       \n",
       "148                                              2,200                       \n",
       "34                                                 NaN                       \n",
       "\n",
       "    Number of prostitutesOther sources and year  Population[5]  \\\n",
       "135                                         NaN      8,820,083   \n",
       "69                                          NaN  1,324,171,354   \n",
       "62                                          NaN     16,582,469   \n",
       "129                        3,000,000 (2006)[25]    143,964,513   \n",
       "70                                          NaN    261,115,456   \n",
       "..                                          ...            ...   \n",
       "64                                          NaN      1,815,698   \n",
       "21                                          NaN      7,131,494   \n",
       "19                                          NaN      2,250,260   \n",
       "148                                         NaN        558,368   \n",
       "34                                      No data      5,125,821   \n",
       "\n",
       "    Prevalence(prostitutes per10,000 population)  \n",
       "135                                            4  \n",
       "69                                             5  \n",
       "62                                            16  \n",
       "129                                          208  \n",
       "70                                             9  \n",
       "..                                           ...  \n",
       "64                                            17  \n",
       "21                                            14  \n",
       "19                                            19  \n",
       "148                                           39  \n",
       "34                                             -  \n",
       "\n",
       "[177 rows x 5 columns]"
      ]
     },
     "execution_count": 7,
     "metadata": {},
     "output_type": "execute_result"
    }
   ],
   "source": [
    "prNumberByCounrySample = prNumberByCounry.sample(frac=1)\n",
    "prNumberByCounrySample"
   ]
  },
  {
   "cell_type": "code",
   "execution_count": 8,
   "metadata": {},
   "outputs": [
    {
     "name": "stdout",
     "output_type": "stream",
     "text": [
      "100\n"
     ]
    }
   ],
   "source": [
    "prostitutesPer10K = []\n",
    "for i in prStatusByCounry[\"name\"]:\n",
    "    prostitutesPer10K.append(\"\")\n",
    "print(len(prostitutesPer10K))"
   ]
  },
  {
   "cell_type": "code",
   "execution_count": 9,
   "metadata": {},
   "outputs": [
    {
     "name": "stdout",
     "output_type": "stream",
     "text": [
      "['4', '17 - 103', '12', '75', '18', '17', '9', '34', '78', '9', '', '23', '', '29', '26', '14', '22', '-', '-', '14 - 32', '2', '31', '50', '78', '-', '12', '11', '', '56 - 94', '21', '2', '32', '7', '2', '7', '5', '37', '9 - 13', '', '16', '69', '65', '25', '21 - 26', '', '5', '9', '11', '-', '2', '15', '10', '66', '-', '-', '27', '12', '150', '2', '3 - 10', '5', '7', '', '19', '15', '13', '29', '10', '6', '13', '5', '21', '15', '5', '27', '80', '10', '', '', '', '-', '14', '-', '40', '140', '4', '98 - 197', '15', '39', '3', '24', '22', '7.3', '13+', '-', '32', '11', '31', '24', '150']\n"
     ]
    }
   ],
   "source": [
    "for i in range(len(prNumberByCounry[\"Country\"])):\n",
    "    if prNumberByCounry[\"Country\"][i] in list(prStatusByCounry[\"name\"]):\n",
    "        index = prStatusByCounry.loc[prStatusByCounry['name']== prNumberByCounry[\"Country\"][i]].index[0]\n",
    "        prostitutesPer10K[index] = prNumberByCounry[\"Prevalence(prostitutes per10,000 population)\"][i]\n",
    "print(prostitutesPer10K)"
   ]
  },
  {
   "cell_type": "code",
   "execution_count": 10,
   "metadata": {
    "scrolled": true
   },
   "outputs": [
    {
     "name": "stdout",
     "output_type": "stream",
     "text": [
      "['4', '60', '12', '75', '18', '17', '9', '34', '78', '9', 'None', '23', 'None', '29', '26', '14', '22', 'None', 'None', '23', '2', '31', '50', '78', 'None', '12', '11', 'None', '75', '21', '2', '32', '7', '2', '7', '5', '37', '11', 'None', '16', '69', '65', '25', '24', 'None', '5', '9', '11', 'None', '2', '15', '10', '66', 'None', 'None', '27', '12', '150', '2', '6', '5', '7', 'None', '19', '15', '13', '29', '10', '6', '13', '5', '21', '15', '5', '27', '80', '10', 'None', 'None', 'None', 'None', '14', 'None', '40', '140', '4', '148', '15', '39', '3', '24', '22', '7', '13', 'None', '32', '11', '31', '24', '150']\n",
      "100\n"
     ]
    }
   ],
   "source": [
    "def makeInt(i):\n",
    "    return int(i)\n",
    "\n",
    "def takeSum(i):\n",
    "    splitedList = i.split(\"-\")\n",
    "    intedList = list(map(makeInt, splitedList))\n",
    "    return str(round(sum(intedList)/2))\n",
    "\n",
    "for i in range(len(prostitutesPer10K)):\n",
    "    if len(prostitutesPer10K[i]) > 3:\n",
    "        prostitutesPer10K[i] = takeSum(prostitutesPer10K[i])\n",
    "    if prostitutesPer10K[i] == '13+':\n",
    "        prostitutesPer10K[i] = '13'\n",
    "    if prostitutesPer10K[i] == '7.3':\n",
    "        prostitutesPer10K[i] = '7' \n",
    "    if prostitutesPer10K[i] == '' or prostitutesPer10K[i] == '-':\n",
    "        prostitutesPer10K[i] = 'None'     \n",
    "print(prostitutesPer10K) \n",
    "print(len(prostitutesPer10K))"
   ]
  },
  {
   "cell_type": "code",
   "execution_count": 11,
   "metadata": {},
   "outputs": [],
   "source": [
    "prStatusByCounry[\"prostitutesPer10K\"] = prostitutesPer10K"
   ]
  },
  {
   "cell_type": "code",
   "execution_count": 12,
   "metadata": {},
   "outputs": [],
   "source": [
    "prStatusByCounry.rename(columns={'name': 'country', 'pop2019': 'population'}, inplace=True)"
   ]
  },
  {
   "cell_type": "code",
   "execution_count": 13,
   "metadata": {},
   "outputs": [
    {
     "data": {
      "text/html": [
       "<div>\n",
       "<style scoped>\n",
       "    .dataframe tbody tr th:only-of-type {\n",
       "        vertical-align: middle;\n",
       "    }\n",
       "\n",
       "    .dataframe tbody tr th {\n",
       "        vertical-align: top;\n",
       "    }\n",
       "\n",
       "    .dataframe thead th {\n",
       "        text-align: right;\n",
       "    }\n",
       "</style>\n",
       "<table border=\"1\" class=\"dataframe\">\n",
       "  <thead>\n",
       "    <tr style=\"text-align: right;\">\n",
       "      <th></th>\n",
       "      <th>country</th>\n",
       "      <th>prostitutionStatus</th>\n",
       "      <th>population</th>\n",
       "      <th>prostitutesPer10K</th>\n",
       "    </tr>\n",
       "  </thead>\n",
       "  <tbody>\n",
       "    <tr>\n",
       "      <td>0</td>\n",
       "      <td>Afghanistan</td>\n",
       "      <td>Illegal</td>\n",
       "      <td>38041.754</td>\n",
       "      <td>4</td>\n",
       "    </tr>\n",
       "    <tr>\n",
       "      <td>1</td>\n",
       "      <td>Albania</td>\n",
       "      <td>Illegal</td>\n",
       "      <td>2880.917</td>\n",
       "      <td>60</td>\n",
       "    </tr>\n",
       "    <tr>\n",
       "      <td>2</td>\n",
       "      <td>Angola</td>\n",
       "      <td>Illegal</td>\n",
       "      <td>31825.295</td>\n",
       "      <td>12</td>\n",
       "    </tr>\n",
       "    <tr>\n",
       "      <td>3</td>\n",
       "      <td>Antigua and Barbuda</td>\n",
       "      <td>Illegal</td>\n",
       "      <td>97.118</td>\n",
       "      <td>75</td>\n",
       "    </tr>\n",
       "    <tr>\n",
       "      <td>4</td>\n",
       "      <td>Argentina</td>\n",
       "      <td>Legal</td>\n",
       "      <td>44780.677</td>\n",
       "      <td>18</td>\n",
       "    </tr>\n",
       "    <tr>\n",
       "      <td>...</td>\n",
       "      <td>...</td>\n",
       "      <td>...</td>\n",
       "      <td>...</td>\n",
       "      <td>...</td>\n",
       "    </tr>\n",
       "    <tr>\n",
       "      <td>95</td>\n",
       "      <td>United Arab Emirates</td>\n",
       "      <td>Illegal</td>\n",
       "      <td>9770.529</td>\n",
       "      <td>32</td>\n",
       "    </tr>\n",
       "    <tr>\n",
       "      <td>96</td>\n",
       "      <td>United Kingdom</td>\n",
       "      <td>Limitedly legal</td>\n",
       "      <td>67530.172</td>\n",
       "      <td>11</td>\n",
       "    </tr>\n",
       "    <tr>\n",
       "      <td>97</td>\n",
       "      <td>United States</td>\n",
       "      <td>Limitedly legal</td>\n",
       "      <td>329064.917</td>\n",
       "      <td>31</td>\n",
       "    </tr>\n",
       "    <tr>\n",
       "      <td>98</td>\n",
       "      <td>Uruguay</td>\n",
       "      <td>Legal</td>\n",
       "      <td>3461.734</td>\n",
       "      <td>24</td>\n",
       "    </tr>\n",
       "    <tr>\n",
       "      <td>99</td>\n",
       "      <td>Venezuela</td>\n",
       "      <td>Legal</td>\n",
       "      <td>28515.829</td>\n",
       "      <td>150</td>\n",
       "    </tr>\n",
       "  </tbody>\n",
       "</table>\n",
       "<p>100 rows × 4 columns</p>\n",
       "</div>"
      ],
      "text/plain": [
       "                 country prostitutionStatus  population prostitutesPer10K\n",
       "0            Afghanistan            Illegal   38041.754                 4\n",
       "1                Albania            Illegal    2880.917                60\n",
       "2                 Angola            Illegal   31825.295                12\n",
       "3    Antigua and Barbuda            Illegal      97.118                75\n",
       "4              Argentina              Legal   44780.677                18\n",
       "..                   ...                ...         ...               ...\n",
       "95  United Arab Emirates            Illegal    9770.529                32\n",
       "96        United Kingdom    Limitedly legal   67530.172                11\n",
       "97         United States    Limitedly legal  329064.917                31\n",
       "98               Uruguay              Legal    3461.734                24\n",
       "99             Venezuela              Legal   28515.829               150\n",
       "\n",
       "[100 rows x 4 columns]"
      ]
     },
     "execution_count": 13,
     "metadata": {},
     "output_type": "execute_result"
    }
   ],
   "source": [
    "prStatusByCounry"
   ]
  },
  {
   "cell_type": "code",
   "execution_count": 14,
   "metadata": {},
   "outputs": [],
   "source": [
    "prostitutionStatus = ['Illegal', 'Illegal', 'Illegal', 'Illegal', 'Legality varies with local laws', 'Illegal', \n",
    "                      'Legality varies with local law', 'Legal', 'Illegal', 'Legal', 'Illegal', 'Abolitionism', \n",
    "                      'Neo-abolitionism', 'Legal', 'Abolitionism', 'Abolitionism', 'Illegal', 'Neo-abolitionism', \n",
    "                      'Legal', 'Illegal', 'Legal', 'Abolitionism', 'Illegal', 'Abolitionism', \n",
    "                      'Legality varies with local laws', 'Abolitionism', 'Abolitionism', 'Illegal', 'Abolitionism', 'Legal', \n",
    "                      'Illegal', 'Legality varies with local laws', 'Abolitionism', 'Abolitionism', 'Abolitionism', 'Neo-abolitionism', \n",
    "                      'Legal', 'Legal', 'Illegal', 'Abolitionism', 'Illegal', 'Illegal', \n",
    "                      'Abolitionism', 'Legal', 'Neo-abolitionism', 'Abolitionism', 'Legality varies with local laws', 'Illegal', \n",
    "                      'Illegal', 'Neo-abolitionism', 'Abolitionism', 'Abolitionism', 'Illegal', 'Illegal', \n",
    "                      'Illegal', 'Legality varies with local laws', 'Abolitionism', 'Legal', 'Illegal', 'Illegal', \n",
    "                      'Legal', 'Abolitionism', 'Abolitionism', 'Legality varies with local laws', 'Legal', 'Decriminalization', \n",
    "                      'Abolitionism', 'Illegal', 'Neo-abolitionism', 'Legal', 'Abolitionism', 'Legal', \n",
    "                      'Illegal', 'Abolitionism', 'Abolitionism', 'Illegal', 'Illegal', 'Illegal', \n",
    "                      'Illegal', 'Illegal', 'Illegal', 'Legal', 'Legality varies with local laws', 'Abolitionism', \n",
    "                      'Abolitionism', 'Illegal', 'Illegal', 'Abolitionism', 'Illegal', 'Neo-abolitionism', \n",
    "                      'Legal', 'Illegal', 'Illegal', 'Legal', 'Illegal', 'Illegal', \n",
    "                      'Abolitionism', 'Illegal', 'Legal', 'Legal']"
   ]
  },
  {
   "cell_type": "code",
   "execution_count": 15,
   "metadata": {},
   "outputs": [],
   "source": [
    "prStatusByCounry[\"prostitutionStatus\"] = prostitutionStatus"
   ]
  },
  {
   "cell_type": "code",
   "execution_count": 16,
   "metadata": {},
   "outputs": [
    {
     "data": {
      "text/html": [
       "<div>\n",
       "<style scoped>\n",
       "    .dataframe tbody tr th:only-of-type {\n",
       "        vertical-align: middle;\n",
       "    }\n",
       "\n",
       "    .dataframe tbody tr th {\n",
       "        vertical-align: top;\n",
       "    }\n",
       "\n",
       "    .dataframe thead th {\n",
       "        text-align: right;\n",
       "    }\n",
       "</style>\n",
       "<table border=\"1\" class=\"dataframe\">\n",
       "  <thead>\n",
       "    <tr style=\"text-align: right;\">\n",
       "      <th></th>\n",
       "      <th>country</th>\n",
       "      <th>prostitutionStatus</th>\n",
       "      <th>population</th>\n",
       "      <th>prostitutesPer10K</th>\n",
       "    </tr>\n",
       "  </thead>\n",
       "  <tbody>\n",
       "    <tr>\n",
       "      <td>0</td>\n",
       "      <td>Afghanistan</td>\n",
       "      <td>Illegal</td>\n",
       "      <td>38041.754</td>\n",
       "      <td>4</td>\n",
       "    </tr>\n",
       "    <tr>\n",
       "      <td>1</td>\n",
       "      <td>Albania</td>\n",
       "      <td>Illegal</td>\n",
       "      <td>2880.917</td>\n",
       "      <td>60</td>\n",
       "    </tr>\n",
       "    <tr>\n",
       "      <td>2</td>\n",
       "      <td>Angola</td>\n",
       "      <td>Illegal</td>\n",
       "      <td>31825.295</td>\n",
       "      <td>12</td>\n",
       "    </tr>\n",
       "    <tr>\n",
       "      <td>3</td>\n",
       "      <td>Antigua and Barbuda</td>\n",
       "      <td>Illegal</td>\n",
       "      <td>97.118</td>\n",
       "      <td>75</td>\n",
       "    </tr>\n",
       "    <tr>\n",
       "      <td>4</td>\n",
       "      <td>Argentina</td>\n",
       "      <td>Legality varies with local laws</td>\n",
       "      <td>44780.677</td>\n",
       "      <td>18</td>\n",
       "    </tr>\n",
       "    <tr>\n",
       "      <td>...</td>\n",
       "      <td>...</td>\n",
       "      <td>...</td>\n",
       "      <td>...</td>\n",
       "      <td>...</td>\n",
       "    </tr>\n",
       "    <tr>\n",
       "      <td>95</td>\n",
       "      <td>United Arab Emirates</td>\n",
       "      <td>Illegal</td>\n",
       "      <td>9770.529</td>\n",
       "      <td>32</td>\n",
       "    </tr>\n",
       "    <tr>\n",
       "      <td>96</td>\n",
       "      <td>United Kingdom</td>\n",
       "      <td>Abolitionism</td>\n",
       "      <td>67530.172</td>\n",
       "      <td>11</td>\n",
       "    </tr>\n",
       "    <tr>\n",
       "      <td>97</td>\n",
       "      <td>United States</td>\n",
       "      <td>Illegal</td>\n",
       "      <td>329064.917</td>\n",
       "      <td>31</td>\n",
       "    </tr>\n",
       "    <tr>\n",
       "      <td>98</td>\n",
       "      <td>Uruguay</td>\n",
       "      <td>Legal</td>\n",
       "      <td>3461.734</td>\n",
       "      <td>24</td>\n",
       "    </tr>\n",
       "    <tr>\n",
       "      <td>99</td>\n",
       "      <td>Venezuela</td>\n",
       "      <td>Legal</td>\n",
       "      <td>28515.829</td>\n",
       "      <td>150</td>\n",
       "    </tr>\n",
       "  </tbody>\n",
       "</table>\n",
       "<p>100 rows × 4 columns</p>\n",
       "</div>"
      ],
      "text/plain": [
       "                 country               prostitutionStatus  population  \\\n",
       "0            Afghanistan                          Illegal   38041.754   \n",
       "1                Albania                          Illegal    2880.917   \n",
       "2                 Angola                          Illegal   31825.295   \n",
       "3    Antigua and Barbuda                          Illegal      97.118   \n",
       "4              Argentina  Legality varies with local laws   44780.677   \n",
       "..                   ...                              ...         ...   \n",
       "95  United Arab Emirates                          Illegal    9770.529   \n",
       "96        United Kingdom                     Abolitionism   67530.172   \n",
       "97         United States                          Illegal  329064.917   \n",
       "98               Uruguay                            Legal    3461.734   \n",
       "99             Venezuela                            Legal   28515.829   \n",
       "\n",
       "   prostitutesPer10K  \n",
       "0                  4  \n",
       "1                 60  \n",
       "2                 12  \n",
       "3                 75  \n",
       "4                 18  \n",
       "..               ...  \n",
       "95                32  \n",
       "96                11  \n",
       "97                31  \n",
       "98                24  \n",
       "99               150  \n",
       "\n",
       "[100 rows x 4 columns]"
      ]
     },
     "execution_count": 16,
     "metadata": {},
     "output_type": "execute_result"
    }
   ],
   "source": [
    "prStatusByCounry"
   ]
  },
  {
   "cell_type": "code",
   "execution_count": 17,
   "metadata": {},
   "outputs": [],
   "source": [
    "counriesInfo = pd.read_excel(\"CountriesWorld.xls\")"
   ]
  },
  {
   "cell_type": "code",
   "execution_count": 18,
   "metadata": {},
   "outputs": [
    {
     "data": {
      "text/html": [
       "<div>\n",
       "<style scoped>\n",
       "    .dataframe tbody tr th:only-of-type {\n",
       "        vertical-align: middle;\n",
       "    }\n",
       "\n",
       "    .dataframe tbody tr th {\n",
       "        vertical-align: top;\n",
       "    }\n",
       "\n",
       "    .dataframe thead th {\n",
       "        text-align: right;\n",
       "    }\n",
       "</style>\n",
       "<table border=\"1\" class=\"dataframe\">\n",
       "  <thead>\n",
       "    <tr style=\"text-align: right;\">\n",
       "      <th></th>\n",
       "      <th>Country</th>\n",
       "      <th>Region</th>\n",
       "      <th>GDP($ per capita)</th>\n",
       "      <th>Literacy(%)</th>\n",
       "      <th>Birthrate</th>\n",
       "      <th>Deathrate</th>\n",
       "      <th>Agriculture</th>\n",
       "    </tr>\n",
       "  </thead>\n",
       "  <tbody>\n",
       "    <tr>\n",
       "      <td>0</td>\n",
       "      <td>Afghanistan</td>\n",
       "      <td>ASIA (EX. NEAR EAST)</td>\n",
       "      <td>700.0</td>\n",
       "      <td>36.0</td>\n",
       "      <td>46.60</td>\n",
       "      <td>20.34</td>\n",
       "      <td>0.380</td>\n",
       "    </tr>\n",
       "    <tr>\n",
       "      <td>1</td>\n",
       "      <td>Albania</td>\n",
       "      <td>EASTERN EUROPE</td>\n",
       "      <td>4500.0</td>\n",
       "      <td>86.5</td>\n",
       "      <td>15.11</td>\n",
       "      <td>5.22</td>\n",
       "      <td>0.232</td>\n",
       "    </tr>\n",
       "    <tr>\n",
       "      <td>2</td>\n",
       "      <td>Algeria</td>\n",
       "      <td>NORTHERN AFRICA</td>\n",
       "      <td>6000.0</td>\n",
       "      <td>70.0</td>\n",
       "      <td>17.14</td>\n",
       "      <td>4.61</td>\n",
       "      <td>0.101</td>\n",
       "    </tr>\n",
       "    <tr>\n",
       "      <td>3</td>\n",
       "      <td>American Samoa</td>\n",
       "      <td>OCEANIA</td>\n",
       "      <td>8000.0</td>\n",
       "      <td>97.0</td>\n",
       "      <td>22.46</td>\n",
       "      <td>3.27</td>\n",
       "      <td>NaN</td>\n",
       "    </tr>\n",
       "    <tr>\n",
       "      <td>4</td>\n",
       "      <td>Andorra</td>\n",
       "      <td>WESTERN EUROPE</td>\n",
       "      <td>19000.0</td>\n",
       "      <td>100.0</td>\n",
       "      <td>8.71</td>\n",
       "      <td>6.25</td>\n",
       "      <td>NaN</td>\n",
       "    </tr>\n",
       "    <tr>\n",
       "      <td>...</td>\n",
       "      <td>...</td>\n",
       "      <td>...</td>\n",
       "      <td>...</td>\n",
       "      <td>...</td>\n",
       "      <td>...</td>\n",
       "      <td>...</td>\n",
       "      <td>...</td>\n",
       "    </tr>\n",
       "    <tr>\n",
       "      <td>222</td>\n",
       "      <td>West Bank</td>\n",
       "      <td>NEAR EAST</td>\n",
       "      <td>800.0</td>\n",
       "      <td>NaN</td>\n",
       "      <td>31.67</td>\n",
       "      <td>3.92</td>\n",
       "      <td>0.090</td>\n",
       "    </tr>\n",
       "    <tr>\n",
       "      <td>223</td>\n",
       "      <td>Western Sahara</td>\n",
       "      <td>NORTHERN AFRICA</td>\n",
       "      <td>NaN</td>\n",
       "      <td>NaN</td>\n",
       "      <td>NaN</td>\n",
       "      <td>NaN</td>\n",
       "      <td>NaN</td>\n",
       "    </tr>\n",
       "    <tr>\n",
       "      <td>224</td>\n",
       "      <td>Yemen</td>\n",
       "      <td>NEAR EAST</td>\n",
       "      <td>800.0</td>\n",
       "      <td>50.2</td>\n",
       "      <td>42.89</td>\n",
       "      <td>8.30</td>\n",
       "      <td>0.135</td>\n",
       "    </tr>\n",
       "    <tr>\n",
       "      <td>225</td>\n",
       "      <td>Zambia</td>\n",
       "      <td>SUB-SAHARAN AFRICA</td>\n",
       "      <td>800.0</td>\n",
       "      <td>80.6</td>\n",
       "      <td>41.00</td>\n",
       "      <td>19.93</td>\n",
       "      <td>0.220</td>\n",
       "    </tr>\n",
       "    <tr>\n",
       "      <td>226</td>\n",
       "      <td>Zimbabwe</td>\n",
       "      <td>SUB-SAHARAN AFRICA</td>\n",
       "      <td>1900.0</td>\n",
       "      <td>90.7</td>\n",
       "      <td>28.01</td>\n",
       "      <td>21.84</td>\n",
       "      <td>0.179</td>\n",
       "    </tr>\n",
       "  </tbody>\n",
       "</table>\n",
       "<p>227 rows × 7 columns</p>\n",
       "</div>"
      ],
      "text/plain": [
       "             Country                               Region  GDP($ per capita)  \\\n",
       "0       Afghanistan         ASIA (EX. NEAR EAST)                       700.0   \n",
       "1           Albania   EASTERN EUROPE                                  4500.0   \n",
       "2           Algeria   NORTHERN AFRICA                                 6000.0   \n",
       "3    American Samoa   OCEANIA                                         8000.0   \n",
       "4           Andorra   WESTERN EUROPE                                 19000.0   \n",
       "..               ...                                  ...                ...   \n",
       "222       West Bank   NEAR EAST                                        800.0   \n",
       "223  Western Sahara   NORTHERN AFRICA                                    NaN   \n",
       "224           Yemen   NEAR EAST                                        800.0   \n",
       "225          Zambia   SUB-SAHARAN AFRICA                               800.0   \n",
       "226        Zimbabwe   SUB-SAHARAN AFRICA                              1900.0   \n",
       "\n",
       "     Literacy(%)  Birthrate  Deathrate  Agriculture  \n",
       "0           36.0      46.60      20.34        0.380  \n",
       "1           86.5      15.11       5.22        0.232  \n",
       "2           70.0      17.14       4.61        0.101  \n",
       "3           97.0      22.46       3.27          NaN  \n",
       "4          100.0       8.71       6.25          NaN  \n",
       "..           ...        ...        ...          ...  \n",
       "222          NaN      31.67       3.92        0.090  \n",
       "223          NaN        NaN        NaN          NaN  \n",
       "224         50.2      42.89       8.30        0.135  \n",
       "225         80.6      41.00      19.93        0.220  \n",
       "226         90.7      28.01      21.84        0.179  \n",
       "\n",
       "[227 rows x 7 columns]"
      ]
     },
     "execution_count": 18,
     "metadata": {},
     "output_type": "execute_result"
    }
   ],
   "source": [
    "counriesInfo"
   ]
  },
  {
   "cell_type": "code",
   "execution_count": 19,
   "metadata": {},
   "outputs": [
    {
     "name": "stderr",
     "output_type": "stream",
     "text": [
      "c:\\users\\bdarm\\appdata\\local\\programs\\python\\python36-32\\lib\\site-packages\\ipykernel_launcher.py:8: SettingWithCopyWarning: \n",
      "A value is trying to be set on a copy of a slice from a DataFrame\n",
      "\n",
      "See the caveats in the documentation: http://pandas.pydata.org/pandas-docs/stable/user_guide/indexing.html#returning-a-view-versus-a-copy\n",
      "  \n",
      "c:\\users\\bdarm\\appdata\\local\\programs\\python\\python36-32\\lib\\site-packages\\ipykernel_launcher.py:12: SettingWithCopyWarning: \n",
      "A value is trying to be set on a copy of a slice from a DataFrame\n",
      "\n",
      "See the caveats in the documentation: http://pandas.pydata.org/pandas-docs/stable/user_guide/indexing.html#returning-a-view-versus-a-copy\n",
      "  if sys.path[0] == '':\n"
     ]
    }
   ],
   "source": [
    "region = []\n",
    "gdp = []\n",
    "literacy = []\n",
    "pplGrowth = []\n",
    "agriculture = []\n",
    "\n",
    "for i in range(len(counriesInfo[\"Country\"])):\n",
    "    counriesInfo[\"Country\"][i] = counriesInfo[\"Country\"][i].strip()\n",
    "\n",
    "temp = prStatusByCounry[\"country\"]\n",
    "for i in range(len(prStatusByCounry[\"country\"])):\n",
    "    temp[i] = temp[i].strip()\n",
    "    \n",
    "for i in range(len(counriesInfo[\"Country\"])):\n",
    "    if counriesInfo[\"Country\"][i] in list(prStatusByCounry[\"country\"]):\n",
    "        a += 1\n",
    "        region.append(counriesInfo[\"Region\"][i])\n",
    "        gdp.append(counriesInfo[\"GDP($ per capita)\"][i])\n",
    "        literacy.append(counriesInfo[\"Literacy(%)\"][i])\n",
    "        pplGrowth.append(str(int(counriesInfo[\"Birthrate\"][i]) - int(counriesInfo[\"Deathrate\"][i])))\n",
    "        agriculture.append(counriesInfo[\"Agriculture\"][i])\n",
    "       "
   ]
  },
  {
   "cell_type": "code",
   "execution_count": 20,
   "metadata": {},
   "outputs": [],
   "source": [
    "#South Korea index 87\n",
    "#Antigua and Barbuda index 4\n",
    "#Bahamas index 9\n",
    "#Trinidad and Tobago index 93\n",
    "#North Korea idex 68\n",
    "#Saint Kitts and Nevis index 78\n",
    "\n",
    "region.insert(87, \"Asia\")\n",
    "gdp.insert(87, \"31430\")\n",
    "literacy.insert(87, \"None\")\n",
    "pplGrowth.insert(87, '2.57')\n",
    "agriculture.insert(87, 'None')\n",
    "\n",
    "region.insert(4, 'LATIN AMER. & CARIB')\n",
    "gdp.insert(4, '18416')\n",
    "literacy.insert(4, '99.0')\n",
    "pplGrowth.insert(4, '10.66')\n",
    "agriculture.insert(4, 'None')\n",
    "\n",
    "region.insert(9, 'LATIN AMER. & CARIB')\n",
    "gdp.insert(9, '34002')\n",
    "literacy.insert(9, 'None')\n",
    "pplGrowth.insert(9, '9.36')\n",
    "agriculture.insert(9, 'None')\n",
    "\n",
    "region.insert(93, 'LATIN AMER. & CARIB')\n",
    "gdp.insert(93, '16243')\n",
    "literacy.insert(93, '99.0')\n",
    "pplGrowth.insert(93, '6.16')\n",
    "agriculture.insert(93, 'None')\n",
    "\n",
    "region.insert(68,'Asia' )\n",
    "gdp.insert(68, '1000')\n",
    "literacy.insert(68, \"100.0\")\n",
    "pplGrowth.insert(68, '3.98')\n",
    "agriculture.insert(68, 'None')\n",
    "\n",
    "region.insert(78, 'LATIN AMER. & CARIB')\n",
    "gdp.insert(78, '18714')\n",
    "literacy.insert(78, 'None')\n",
    "pplGrowth.insert(78, '7.12')\n",
    "agriculture.insert(78, 'None')"
   ]
  },
  {
   "cell_type": "code",
   "execution_count": 21,
   "metadata": {},
   "outputs": [
    {
     "data": {
      "text/plain": [
       "100"
      ]
     },
     "execution_count": 21,
     "metadata": {},
     "output_type": "execute_result"
    }
   ],
   "source": [
    "len(region)"
   ]
  },
  {
   "cell_type": "code",
   "execution_count": 22,
   "metadata": {},
   "outputs": [],
   "source": [
    "prStatusByCounry[\"region\"] = region\n",
    "prStatusByCounry[\"gdp\"] = gdp\n",
    "prStatusByCounry[\"literacy\"] = literacy\n",
    "prStatusByCounry[\"pplGrowth\"] = pplGrowth\n",
    "prStatusByCounry[\"agriculture\"] = agriculture"
   ]
  },
  {
   "cell_type": "code",
   "execution_count": 23,
   "metadata": {},
   "outputs": [
    {
     "data": {
      "text/html": [
       "<div>\n",
       "<style scoped>\n",
       "    .dataframe tbody tr th:only-of-type {\n",
       "        vertical-align: middle;\n",
       "    }\n",
       "\n",
       "    .dataframe tbody tr th {\n",
       "        vertical-align: top;\n",
       "    }\n",
       "\n",
       "    .dataframe thead th {\n",
       "        text-align: right;\n",
       "    }\n",
       "</style>\n",
       "<table border=\"1\" class=\"dataframe\">\n",
       "  <thead>\n",
       "    <tr style=\"text-align: right;\">\n",
       "      <th></th>\n",
       "      <th>country</th>\n",
       "      <th>prostitutionStatus</th>\n",
       "      <th>population</th>\n",
       "      <th>prostitutesPer10K</th>\n",
       "      <th>region</th>\n",
       "      <th>gdp</th>\n",
       "      <th>literacy</th>\n",
       "      <th>pplGrowth</th>\n",
       "      <th>agriculture</th>\n",
       "    </tr>\n",
       "  </thead>\n",
       "  <tbody>\n",
       "    <tr>\n",
       "      <td>0</td>\n",
       "      <td>Afghanistan</td>\n",
       "      <td>Illegal</td>\n",
       "      <td>38041.754</td>\n",
       "      <td>4</td>\n",
       "      <td>ASIA (EX. NEAR EAST)</td>\n",
       "      <td>700</td>\n",
       "      <td>36</td>\n",
       "      <td>26</td>\n",
       "      <td>0.38</td>\n",
       "    </tr>\n",
       "    <tr>\n",
       "      <td>1</td>\n",
       "      <td>Albania</td>\n",
       "      <td>Illegal</td>\n",
       "      <td>2880.917</td>\n",
       "      <td>60</td>\n",
       "      <td>EASTERN EUROPE</td>\n",
       "      <td>4500</td>\n",
       "      <td>86.5</td>\n",
       "      <td>10</td>\n",
       "      <td>0.232</td>\n",
       "    </tr>\n",
       "    <tr>\n",
       "      <td>2</td>\n",
       "      <td>Angola</td>\n",
       "      <td>Illegal</td>\n",
       "      <td>31825.295</td>\n",
       "      <td>12</td>\n",
       "      <td>SUB-SAHARAN AFRICA</td>\n",
       "      <td>1900</td>\n",
       "      <td>42</td>\n",
       "      <td>21</td>\n",
       "      <td>0.096</td>\n",
       "    </tr>\n",
       "    <tr>\n",
       "      <td>3</td>\n",
       "      <td>Antigua and Barbuda</td>\n",
       "      <td>Illegal</td>\n",
       "      <td>97.118</td>\n",
       "      <td>75</td>\n",
       "      <td>LATIN AMER. &amp; CARIB</td>\n",
       "      <td>11200</td>\n",
       "      <td>97.1</td>\n",
       "      <td>9</td>\n",
       "      <td>0.095</td>\n",
       "    </tr>\n",
       "    <tr>\n",
       "      <td>4</td>\n",
       "      <td>Argentina</td>\n",
       "      <td>Legality varies with local laws</td>\n",
       "      <td>44780.677</td>\n",
       "      <td>18</td>\n",
       "      <td>LATIN AMER. &amp; CARIB</td>\n",
       "      <td>18416</td>\n",
       "      <td>99.0</td>\n",
       "      <td>10.66</td>\n",
       "      <td>None</td>\n",
       "    </tr>\n",
       "    <tr>\n",
       "      <td>...</td>\n",
       "      <td>...</td>\n",
       "      <td>...</td>\n",
       "      <td>...</td>\n",
       "      <td>...</td>\n",
       "      <td>...</td>\n",
       "      <td>...</td>\n",
       "      <td>...</td>\n",
       "      <td>...</td>\n",
       "      <td>...</td>\n",
       "    </tr>\n",
       "    <tr>\n",
       "      <td>95</td>\n",
       "      <td>United Arab Emirates</td>\n",
       "      <td>Illegal</td>\n",
       "      <td>9770.529</td>\n",
       "      <td>32</td>\n",
       "      <td>LATIN AMER. &amp; CARIB</td>\n",
       "      <td>16243</td>\n",
       "      <td>99.0</td>\n",
       "      <td>6.16</td>\n",
       "      <td>None</td>\n",
       "    </tr>\n",
       "    <tr>\n",
       "      <td>96</td>\n",
       "      <td>United Kingdom</td>\n",
       "      <td>Abolitionism</td>\n",
       "      <td>67530.172</td>\n",
       "      <td>11</td>\n",
       "      <td>WESTERN EUROPE</td>\n",
       "      <td>27700</td>\n",
       "      <td>99</td>\n",
       "      <td>0</td>\n",
       "      <td>0.005</td>\n",
       "    </tr>\n",
       "    <tr>\n",
       "      <td>97</td>\n",
       "      <td>United States</td>\n",
       "      <td>Illegal</td>\n",
       "      <td>329064.917</td>\n",
       "      <td>31</td>\n",
       "      <td>NORTHERN AMERICA</td>\n",
       "      <td>37800</td>\n",
       "      <td>97</td>\n",
       "      <td>6</td>\n",
       "      <td>0.01</td>\n",
       "    </tr>\n",
       "    <tr>\n",
       "      <td>98</td>\n",
       "      <td>Uruguay</td>\n",
       "      <td>Legal</td>\n",
       "      <td>3461.734</td>\n",
       "      <td>24</td>\n",
       "      <td>LATIN AMER. &amp; CARIB</td>\n",
       "      <td>12800</td>\n",
       "      <td>98</td>\n",
       "      <td>4</td>\n",
       "      <td>0.093</td>\n",
       "    </tr>\n",
       "    <tr>\n",
       "      <td>99</td>\n",
       "      <td>Venezuela</td>\n",
       "      <td>Legal</td>\n",
       "      <td>28515.829</td>\n",
       "      <td>150</td>\n",
       "      <td>LATIN AMER. &amp; CARIB</td>\n",
       "      <td>4800</td>\n",
       "      <td>93.4</td>\n",
       "      <td>14</td>\n",
       "      <td>0.04</td>\n",
       "    </tr>\n",
       "  </tbody>\n",
       "</table>\n",
       "<p>100 rows × 9 columns</p>\n",
       "</div>"
      ],
      "text/plain": [
       "                 country               prostitutionStatus  population  \\\n",
       "0            Afghanistan                          Illegal   38041.754   \n",
       "1                Albania                          Illegal    2880.917   \n",
       "2                 Angola                          Illegal   31825.295   \n",
       "3    Antigua and Barbuda                          Illegal      97.118   \n",
       "4              Argentina  Legality varies with local laws   44780.677   \n",
       "..                   ...                              ...         ...   \n",
       "95  United Arab Emirates                          Illegal    9770.529   \n",
       "96        United Kingdom                     Abolitionism   67530.172   \n",
       "97         United States                          Illegal  329064.917   \n",
       "98               Uruguay                            Legal    3461.734   \n",
       "99             Venezuela                            Legal   28515.829   \n",
       "\n",
       "   prostitutesPer10K                               region    gdp literacy  \\\n",
       "0                  4        ASIA (EX. NEAR EAST)             700       36   \n",
       "1                 60  EASTERN EUROPE                        4500     86.5   \n",
       "2                 12  SUB-SAHARAN AFRICA                    1900       42   \n",
       "3                 75              LATIN AMER. & CARIB      11200     97.1   \n",
       "4                 18                  LATIN AMER. & CARIB  18416     99.0   \n",
       "..               ...                                  ...    ...      ...   \n",
       "95                32                  LATIN AMER. & CARIB  16243     99.0   \n",
       "96                11  WESTERN EUROPE                       27700       99   \n",
       "97                31  NORTHERN AMERICA                     37800       97   \n",
       "98                24              LATIN AMER. & CARIB      12800       98   \n",
       "99               150              LATIN AMER. & CARIB       4800     93.4   \n",
       "\n",
       "   pplGrowth agriculture  \n",
       "0         26        0.38  \n",
       "1         10       0.232  \n",
       "2         21       0.096  \n",
       "3          9       0.095  \n",
       "4      10.66        None  \n",
       "..       ...         ...  \n",
       "95      6.16        None  \n",
       "96         0       0.005  \n",
       "97         6        0.01  \n",
       "98         4       0.093  \n",
       "99        14        0.04  \n",
       "\n",
       "[100 rows x 9 columns]"
      ]
     },
     "execution_count": 23,
     "metadata": {},
     "output_type": "execute_result"
    }
   ],
   "source": [
    "prStatusByCounry"
   ]
  },
  {
   "cell_type": "code",
   "execution_count": 24,
   "metadata": {},
   "outputs": [
    {
     "name": "stdout",
     "output_type": "stream",
     "text": [
      "0           ASIA (EX. NEAR EAST)         \n",
      "1     EASTERN EUROPE                     \n",
      "2     SUB-SAHARAN AFRICA                 \n",
      "3                 LATIN AMER. & CARIB    \n",
      "4                     LATIN AMER. & CARIB\n",
      "                     ...                 \n",
      "95                    LATIN AMER. & CARIB\n",
      "96    WESTERN EUROPE                     \n",
      "97    NORTHERN AMERICA                   \n",
      "98                LATIN AMER. & CARIB    \n",
      "99                LATIN AMER. & CARIB    \n",
      "Name: region, Length: 100, dtype: object\n"
     ]
    }
   ],
   "source": [
    "print(prStatusByCounry.region)"
   ]
  },
  {
   "cell_type": "code",
   "execution_count": 25,
   "metadata": {},
   "outputs": [],
   "source": [
    "HPI = pd.read_excel(\"hpiData.xlsx\")"
   ]
  },
  {
   "cell_type": "code",
   "execution_count": 26,
   "metadata": {},
   "outputs": [
    {
     "data": {
      "text/html": [
       "<div>\n",
       "<style scoped>\n",
       "    .dataframe tbody tr th:only-of-type {\n",
       "        vertical-align: middle;\n",
       "    }\n",
       "\n",
       "    .dataframe tbody tr th {\n",
       "        vertical-align: top;\n",
       "    }\n",
       "\n",
       "    .dataframe thead th {\n",
       "        text-align: right;\n",
       "    }\n",
       "</style>\n",
       "<table border=\"1\" class=\"dataframe\">\n",
       "  <thead>\n",
       "    <tr style=\"text-align: right;\">\n",
       "      <th></th>\n",
       "      <th>country</th>\n",
       "      <th>hpi</th>\n",
       "    </tr>\n",
       "  </thead>\n",
       "  <tbody>\n",
       "    <tr>\n",
       "      <td>0</td>\n",
       "      <td>Afghanistan</td>\n",
       "      <td>20.225350</td>\n",
       "    </tr>\n",
       "    <tr>\n",
       "      <td>1</td>\n",
       "      <td>Albania</td>\n",
       "      <td>36.766874</td>\n",
       "    </tr>\n",
       "    <tr>\n",
       "      <td>2</td>\n",
       "      <td>Algeria</td>\n",
       "      <td>33.300543</td>\n",
       "    </tr>\n",
       "    <tr>\n",
       "      <td>3</td>\n",
       "      <td>Argentina</td>\n",
       "      <td>35.190244</td>\n",
       "    </tr>\n",
       "    <tr>\n",
       "      <td>4</td>\n",
       "      <td>Armenia</td>\n",
       "      <td>25.666417</td>\n",
       "    </tr>\n",
       "    <tr>\n",
       "      <td>...</td>\n",
       "      <td>...</td>\n",
       "      <td>...</td>\n",
       "    </tr>\n",
       "    <tr>\n",
       "      <td>135</td>\n",
       "      <td>Venezuela</td>\n",
       "      <td>33.569960</td>\n",
       "    </tr>\n",
       "    <tr>\n",
       "      <td>136</td>\n",
       "      <td>Vietnam</td>\n",
       "      <td>40.307589</td>\n",
       "    </tr>\n",
       "    <tr>\n",
       "      <td>137</td>\n",
       "      <td>Yemen</td>\n",
       "      <td>22.754269</td>\n",
       "    </tr>\n",
       "    <tr>\n",
       "      <td>138</td>\n",
       "      <td>Zambia</td>\n",
       "      <td>25.224246</td>\n",
       "    </tr>\n",
       "    <tr>\n",
       "      <td>139</td>\n",
       "      <td>Zimbabwe</td>\n",
       "      <td>22.112535</td>\n",
       "    </tr>\n",
       "  </tbody>\n",
       "</table>\n",
       "<p>140 rows × 2 columns</p>\n",
       "</div>"
      ],
      "text/plain": [
       "         country        hpi\n",
       "0    Afghanistan  20.225350\n",
       "1        Albania  36.766874\n",
       "2        Algeria  33.300543\n",
       "3      Argentina  35.190244\n",
       "4        Armenia  25.666417\n",
       "..           ...        ...\n",
       "135    Venezuela  33.569960\n",
       "136      Vietnam  40.307589\n",
       "137        Yemen  22.754269\n",
       "138       Zambia  25.224246\n",
       "139     Zimbabwe  22.112535\n",
       "\n",
       "[140 rows x 2 columns]"
      ]
     },
     "execution_count": 26,
     "metadata": {},
     "output_type": "execute_result"
    }
   ],
   "source": [
    "HPI"
   ]
  },
  {
   "cell_type": "code",
   "execution_count": 27,
   "metadata": {},
   "outputs": [
    {
     "name": "stdout",
     "output_type": "stream",
     "text": [
      "Afghanistan\n",
      "Albania\n",
      "Argentina\n",
      "Armenia\n",
      "Australia\n",
      "Austria\n",
      "Bangladesh\n",
      "Belgium\n",
      "Belize\n",
      "Bolivia\n",
      "Brazil\n",
      "Bulgaria\n",
      "Cambodia\n",
      "Canada\n",
      "Chile\n",
      "China\n",
      "Colombia\n",
      "Costa Rica\n",
      "Croatia\n",
      "Cyprus\n",
      "Czech Republic\n",
      "Denmark\n",
      "Dominican Republic\n",
      "Ecuador\n",
      "Egypt\n",
      "El Salvador\n",
      "Estonia\n",
      "Ethiopia\n",
      "Finland\n",
      "France\n",
      "Germany\n",
      "Greece\n",
      "Guatemala\n",
      "Haiti\n",
      "Honduras\n",
      "Hungary\n",
      "Iceland\n",
      "India\n",
      "Indonesia\n",
      "Iran\n",
      "Iraq\n",
      "Ireland\n",
      "Israel\n",
      "Italy\n",
      "Jamaica\n",
      "Japan\n",
      "Kenya\n",
      "Kyrgyzstan\n",
      "Latvia\n",
      "Liberia\n",
      "Lithuania\n",
      "Luxembourg\n",
      "Malaysia\n",
      "Malta\n",
      "Mexico\n",
      "Netherlands\n",
      "New Zealand\n",
      "Nicaragua\n",
      "Norway\n",
      "Panama\n",
      "Paraguay\n",
      "Peru\n",
      "Philippines\n",
      "Poland\n",
      "Portugal\n",
      "Romania\n",
      "Rwanda\n",
      "Senegal\n",
      "Slovakia\n",
      "Slovenia\n",
      "South Africa\n",
      "South Korea\n",
      "Spain\n",
      "Suriname\n",
      "Sweden\n",
      "Switzerland\n",
      "Thailand\n",
      "Trinidad and Tobago\n",
      "Turkey\n",
      "Uganda\n",
      "United Kingdom\n",
      "Uruguay\n",
      "Venezuela\n",
      "[20.225349770957084, 36.766874439109955, 35.190243642294554, 25.666417288436907, 21.228966308259448, 30.47822432661251, 38.3906944120402, 23.726523427085876, 33.83984315201018, 23.32149264012432, 34.344975247648655, 20.440789274271474, 25.64937316366306, 23.94183384203565, 31.66552155295386, 25.72642015541785, 40.69501102038909, 44.7140709773574, 30.164198527193108, 30.711846428980596, 27.28409908808879, 32.672582087699986, 30.307213035861228, 37.042715714114095, 23.781020583811703, 35.635177653287265, 17.89502178920171, 26.658749963172124, 31.293363951496872, 30.413506058643833, 29.815503585510626, 23.62099962120931, 34.23635156813152, 28.567184774346202, 27.1587707896045, 26.383181515417217, 31.0787247382566, 29.175464503512924, 35.71609257877622, 23.992041742901446, 26.521291569690366, 30.016529573152507, 28.83147555443557, 28.07652469913837, 36.88843514369528, 28.319348084202872, 24.216351638353263, 33.07797038591029, 17.056728863774623, 22.182279227978782, 21.03656569885549, 13.151174195886261, 30.291713548418738, 28.96307142500312, 40.69729222257651, 35.315450932768506, 31.2583395000787, 38.68825826742374, 36.82705238216737, 39.50257721706073, 23.326222792340484, 34.55546153048449, 34.99109366669882, 27.471189416618913, 24.847393728344652, 28.801498535335398, 19.62837798317014, 21.896045707219148, 28.228896861344644, 24.638840370736368, 15.868991671939174, 24.790360341261334, 35.95897673862395, 25.447157038977338, 28.034925186771904, 34.330969622041906, 37.2901049946857, 15.718346721557095, 26.42456507822006, 19.419101693196378, 31.909286323046118, 36.13427976743987, 33.56995966266243]\n",
      "83\n"
     ]
    }
   ],
   "source": [
    "a = 0\n",
    "hpilist = []\n",
    "for i in range(len(HPI[\"country\"])):\n",
    "    if HPI[\"country\"][i] in list(prStatusByCounry[\"country\"]):\n",
    "        print(HPI[\"country\"][i])\n",
    "        hpilist.append(HPI[\"hpi\"][i])\n",
    "print(hpilist)\n",
    "print(len(hpilist))"
   ]
  },
  {
   "cell_type": "code",
   "execution_count": 28,
   "metadata": {},
   "outputs": [
    {
     "name": "stdout",
     "output_type": "stream",
     "text": [
      "100\n"
     ]
    }
   ],
   "source": [
    "#Angola 3\n",
    "#Antigua and Barbuda 4\n",
    "#Bahamas 9\n",
    "#Barbados 11\n",
    "#Cuba 24\n",
    "#Dominica 28\n",
    "#Grenada 39\n",
    "#Guyana 41\n",
    "#Jordan 55\n",
    "#North Korea 68\n",
    "#Saint Kitts and Nevis 78\n",
    "#Saint Lucia 79\n",
    "#Saint Vincent and the Grenadines 80\n",
    "#Saudi Arabia 81\n",
    "#Singapore 83\n",
    "#United Arab Emirates 96\n",
    "#United States 98\n",
    "hpilist.insert(3, '27.88')\n",
    "hpilist.insert(4, '59.23')\n",
    "hpilist.insert(9, '44.90')\n",
    "hpilist.insert(11, '52.73')\n",
    "hpilist.insert(24, '61.86')\n",
    "hpilist.insert(28, 'None')\n",
    "hpilist.insert(39, '48.96')\n",
    "hpilist.insert(41, '45.6')\n",
    "hpilist.insert(55, '54.6')\n",
    "hpilist.insert(68, 'None')\n",
    "hpilist.insert(78, '56.14')\n",
    "hpilist.insert(79, '61.31')\n",
    "hpilist.insert(80, '61.37')\n",
    "hpilist.insert(81, '59.7')\n",
    "hpilist.insert(83, '48.2')\n",
    "hpilist.insert(96, '28.2')\n",
    "hpilist.insert(98, '30.7')\n",
    "print(len(hpilist))"
   ]
  },
  {
   "cell_type": "code",
   "execution_count": 29,
   "metadata": {},
   "outputs": [
    {
     "ename": "ValueError",
     "evalue": "list.remove(x): x not in list",
     "output_type": "error",
     "traceback": [
      "\u001b[1;31m---------------------------------------------------------------------------\u001b[0m",
      "\u001b[1;31mValueError\u001b[0m                                Traceback (most recent call last)",
      "\u001b[1;32m<ipython-input-29-b72f9397feb6>\u001b[0m in \u001b[0;36m<module>\u001b[1;34m\u001b[0m\n\u001b[0;32m      1\u001b[0m \u001b[1;32mfor\u001b[0m \u001b[0mi\u001b[0m \u001b[1;32min\u001b[0m \u001b[0mrange\u001b[0m\u001b[1;33m(\u001b[0m\u001b[1;36m4\u001b[0m\u001b[1;33m)\u001b[0m\u001b[1;33m:\u001b[0m\u001b[1;33m\u001b[0m\u001b[0m\n\u001b[1;32m----> 2\u001b[1;33m     \u001b[0mhpilist\u001b[0m\u001b[1;33m.\u001b[0m\u001b[0mremove\u001b[0m\u001b[1;33m(\u001b[0m\u001b[1;34m''\u001b[0m\u001b[1;33m)\u001b[0m\u001b[1;33m\u001b[0m\u001b[0m\n\u001b[0m",
      "\u001b[1;31mValueError\u001b[0m: list.remove(x): x not in list"
     ]
    }
   ],
   "source": [
    "for i in range(4):\n",
    "    hpilist.remove('')"
   ]
  },
  {
   "cell_type": "code",
   "execution_count": 30,
   "metadata": {},
   "outputs": [
    {
     "name": "stdout",
     "output_type": "stream",
     "text": [
      "[20.225349770957084, 36.766874439109955, 35.190243642294554, '27.88', '59.23', 25.666417288436907, 21.228966308259448, 30.47822432661251, 38.3906944120402, '44.90', 23.726523427085876, '52.73', 33.83984315201018, 23.32149264012432, 34.344975247648655, 20.440789274271474, 25.64937316366306, 23.94183384203565, 31.66552155295386, 25.72642015541785, 40.69501102038909, 44.7140709773574, 30.164198527193108, 30.711846428980596, '61.86', 27.28409908808879, 32.672582087699986, 30.307213035861228, 'None', 37.042715714114095, 23.781020583811703, 35.635177653287265, 17.89502178920171, 26.658749963172124, 31.293363951496872, 30.413506058643833, 29.815503585510626, 23.62099962120931, 34.23635156813152, '48.96', 28.567184774346202, '45.6', 27.1587707896045, 26.383181515417217, 31.0787247382566, 29.175464503512924, 35.71609257877622, 23.992041742901446, 26.521291569690366, 30.016529573152507, 28.83147555443557, 28.07652469913837, 36.88843514369528, 28.319348084202872, 24.216351638353263, '54.6', 33.07797038591029, 17.056728863774623, 22.182279227978782, 21.03656569885549, 13.151174195886261, 30.291713548418738, 28.96307142500312, 40.69729222257651, 35.315450932768506, 31.2583395000787, 38.68825826742374, 36.82705238216737, 'None', 39.50257721706073, 23.326222792340484, 34.55546153048449, 34.99109366669882, 27.471189416618913, 24.847393728344652, 28.801498535335398, 19.62837798317014, 21.896045707219148, '56.14', '61.31', '61.37', '59.7', 28.228896861344644, '48.2', 24.638840370736368, 15.868991671939174, 24.790360341261334, 35.95897673862395, 25.447157038977338, 28.034925186771904, 34.330969622041906, 37.2901049946857, 15.718346721557095, 26.42456507822006, 19.419101693196378, 31.909286323046118, '28.2', 36.13427976743987, '30.7', 33.56995966266243]\n",
      "100\n"
     ]
    }
   ],
   "source": [
    "print(hpilist)\n",
    "print(len(hpilist))"
   ]
  },
  {
   "cell_type": "code",
   "execution_count": 31,
   "metadata": {},
   "outputs": [],
   "source": [
    "prStatusByCounry[\"hpi\"] = hpilist"
   ]
  },
  {
   "cell_type": "code",
   "execution_count": 32,
   "metadata": {},
   "outputs": [
    {
     "data": {
      "text/html": [
       "<div>\n",
       "<style scoped>\n",
       "    .dataframe tbody tr th:only-of-type {\n",
       "        vertical-align: middle;\n",
       "    }\n",
       "\n",
       "    .dataframe tbody tr th {\n",
       "        vertical-align: top;\n",
       "    }\n",
       "\n",
       "    .dataframe thead th {\n",
       "        text-align: right;\n",
       "    }\n",
       "</style>\n",
       "<table border=\"1\" class=\"dataframe\">\n",
       "  <thead>\n",
       "    <tr style=\"text-align: right;\">\n",
       "      <th></th>\n",
       "      <th>country</th>\n",
       "      <th>prostitutionStatus</th>\n",
       "      <th>population</th>\n",
       "      <th>prostitutesPer10K</th>\n",
       "      <th>region</th>\n",
       "      <th>gdp</th>\n",
       "      <th>literacy</th>\n",
       "      <th>pplGrowth</th>\n",
       "      <th>agriculture</th>\n",
       "      <th>hpi</th>\n",
       "    </tr>\n",
       "  </thead>\n",
       "  <tbody>\n",
       "    <tr>\n",
       "      <td>0</td>\n",
       "      <td>Afghanistan</td>\n",
       "      <td>Illegal</td>\n",
       "      <td>38041.754</td>\n",
       "      <td>4</td>\n",
       "      <td>ASIA (EX. NEAR EAST)</td>\n",
       "      <td>700</td>\n",
       "      <td>36</td>\n",
       "      <td>26</td>\n",
       "      <td>0.38</td>\n",
       "      <td>20.2253</td>\n",
       "    </tr>\n",
       "    <tr>\n",
       "      <td>1</td>\n",
       "      <td>Albania</td>\n",
       "      <td>Illegal</td>\n",
       "      <td>2880.917</td>\n",
       "      <td>60</td>\n",
       "      <td>EASTERN EUROPE</td>\n",
       "      <td>4500</td>\n",
       "      <td>86.5</td>\n",
       "      <td>10</td>\n",
       "      <td>0.232</td>\n",
       "      <td>36.7669</td>\n",
       "    </tr>\n",
       "    <tr>\n",
       "      <td>2</td>\n",
       "      <td>Angola</td>\n",
       "      <td>Illegal</td>\n",
       "      <td>31825.295</td>\n",
       "      <td>12</td>\n",
       "      <td>SUB-SAHARAN AFRICA</td>\n",
       "      <td>1900</td>\n",
       "      <td>42</td>\n",
       "      <td>21</td>\n",
       "      <td>0.096</td>\n",
       "      <td>35.1902</td>\n",
       "    </tr>\n",
       "    <tr>\n",
       "      <td>3</td>\n",
       "      <td>Antigua and Barbuda</td>\n",
       "      <td>Illegal</td>\n",
       "      <td>97.118</td>\n",
       "      <td>75</td>\n",
       "      <td>LATIN AMER. &amp; CARIB</td>\n",
       "      <td>11200</td>\n",
       "      <td>97.1</td>\n",
       "      <td>9</td>\n",
       "      <td>0.095</td>\n",
       "      <td>27.88</td>\n",
       "    </tr>\n",
       "    <tr>\n",
       "      <td>4</td>\n",
       "      <td>Argentina</td>\n",
       "      <td>Legality varies with local laws</td>\n",
       "      <td>44780.677</td>\n",
       "      <td>18</td>\n",
       "      <td>LATIN AMER. &amp; CARIB</td>\n",
       "      <td>18416</td>\n",
       "      <td>99.0</td>\n",
       "      <td>10.66</td>\n",
       "      <td>None</td>\n",
       "      <td>59.23</td>\n",
       "    </tr>\n",
       "    <tr>\n",
       "      <td>...</td>\n",
       "      <td>...</td>\n",
       "      <td>...</td>\n",
       "      <td>...</td>\n",
       "      <td>...</td>\n",
       "      <td>...</td>\n",
       "      <td>...</td>\n",
       "      <td>...</td>\n",
       "      <td>...</td>\n",
       "      <td>...</td>\n",
       "      <td>...</td>\n",
       "    </tr>\n",
       "    <tr>\n",
       "      <td>95</td>\n",
       "      <td>United Arab Emirates</td>\n",
       "      <td>Illegal</td>\n",
       "      <td>9770.529</td>\n",
       "      <td>32</td>\n",
       "      <td>LATIN AMER. &amp; CARIB</td>\n",
       "      <td>16243</td>\n",
       "      <td>99.0</td>\n",
       "      <td>6.16</td>\n",
       "      <td>None</td>\n",
       "      <td>31.9093</td>\n",
       "    </tr>\n",
       "    <tr>\n",
       "      <td>96</td>\n",
       "      <td>United Kingdom</td>\n",
       "      <td>Abolitionism</td>\n",
       "      <td>67530.172</td>\n",
       "      <td>11</td>\n",
       "      <td>WESTERN EUROPE</td>\n",
       "      <td>27700</td>\n",
       "      <td>99</td>\n",
       "      <td>0</td>\n",
       "      <td>0.005</td>\n",
       "      <td>28.2</td>\n",
       "    </tr>\n",
       "    <tr>\n",
       "      <td>97</td>\n",
       "      <td>United States</td>\n",
       "      <td>Illegal</td>\n",
       "      <td>329064.917</td>\n",
       "      <td>31</td>\n",
       "      <td>NORTHERN AMERICA</td>\n",
       "      <td>37800</td>\n",
       "      <td>97</td>\n",
       "      <td>6</td>\n",
       "      <td>0.01</td>\n",
       "      <td>36.1343</td>\n",
       "    </tr>\n",
       "    <tr>\n",
       "      <td>98</td>\n",
       "      <td>Uruguay</td>\n",
       "      <td>Legal</td>\n",
       "      <td>3461.734</td>\n",
       "      <td>24</td>\n",
       "      <td>LATIN AMER. &amp; CARIB</td>\n",
       "      <td>12800</td>\n",
       "      <td>98</td>\n",
       "      <td>4</td>\n",
       "      <td>0.093</td>\n",
       "      <td>30.7</td>\n",
       "    </tr>\n",
       "    <tr>\n",
       "      <td>99</td>\n",
       "      <td>Venezuela</td>\n",
       "      <td>Legal</td>\n",
       "      <td>28515.829</td>\n",
       "      <td>150</td>\n",
       "      <td>LATIN AMER. &amp; CARIB</td>\n",
       "      <td>4800</td>\n",
       "      <td>93.4</td>\n",
       "      <td>14</td>\n",
       "      <td>0.04</td>\n",
       "      <td>33.57</td>\n",
       "    </tr>\n",
       "  </tbody>\n",
       "</table>\n",
       "<p>100 rows × 10 columns</p>\n",
       "</div>"
      ],
      "text/plain": [
       "                 country               prostitutionStatus  population  \\\n",
       "0            Afghanistan                          Illegal   38041.754   \n",
       "1                Albania                          Illegal    2880.917   \n",
       "2                 Angola                          Illegal   31825.295   \n",
       "3    Antigua and Barbuda                          Illegal      97.118   \n",
       "4              Argentina  Legality varies with local laws   44780.677   \n",
       "..                   ...                              ...         ...   \n",
       "95  United Arab Emirates                          Illegal    9770.529   \n",
       "96        United Kingdom                     Abolitionism   67530.172   \n",
       "97         United States                          Illegal  329064.917   \n",
       "98               Uruguay                            Legal    3461.734   \n",
       "99             Venezuela                            Legal   28515.829   \n",
       "\n",
       "   prostitutesPer10K                               region    gdp literacy  \\\n",
       "0                  4        ASIA (EX. NEAR EAST)             700       36   \n",
       "1                 60  EASTERN EUROPE                        4500     86.5   \n",
       "2                 12  SUB-SAHARAN AFRICA                    1900       42   \n",
       "3                 75              LATIN AMER. & CARIB      11200     97.1   \n",
       "4                 18                  LATIN AMER. & CARIB  18416     99.0   \n",
       "..               ...                                  ...    ...      ...   \n",
       "95                32                  LATIN AMER. & CARIB  16243     99.0   \n",
       "96                11  WESTERN EUROPE                       27700       99   \n",
       "97                31  NORTHERN AMERICA                     37800       97   \n",
       "98                24              LATIN AMER. & CARIB      12800       98   \n",
       "99               150              LATIN AMER. & CARIB       4800     93.4   \n",
       "\n",
       "   pplGrowth agriculture      hpi  \n",
       "0         26        0.38  20.2253  \n",
       "1         10       0.232  36.7669  \n",
       "2         21       0.096  35.1902  \n",
       "3          9       0.095    27.88  \n",
       "4      10.66        None    59.23  \n",
       "..       ...         ...      ...  \n",
       "95      6.16        None  31.9093  \n",
       "96         0       0.005     28.2  \n",
       "97         6        0.01  36.1343  \n",
       "98         4       0.093     30.7  \n",
       "99        14        0.04    33.57  \n",
       "\n",
       "[100 rows x 10 columns]"
      ]
     },
     "execution_count": 32,
     "metadata": {},
     "output_type": "execute_result"
    }
   ],
   "source": [
    "prStatusByCounry\n"
   ]
  },
  {
   "cell_type": "code",
   "execution_count": 33,
   "metadata": {},
   "outputs": [
    {
     "name": "stderr",
     "output_type": "stream",
     "text": [
      "c:\\users\\bdarm\\appdata\\local\\programs\\python\\python36-32\\lib\\site-packages\\ipykernel_launcher.py:9: SettingWithCopyWarning: \n",
      "A value is trying to be set on a copy of a slice from a DataFrame\n",
      "\n",
      "See the caveats in the documentation: http://pandas.pydata.org/pandas-docs/stable/user_guide/indexing.html#returning-a-view-versus-a-copy\n",
      "  if __name__ == '__main__':\n"
     ]
    },
    {
     "data": {
      "text/html": [
       "<div>\n",
       "<style scoped>\n",
       "    .dataframe tbody tr th:only-of-type {\n",
       "        vertical-align: middle;\n",
       "    }\n",
       "\n",
       "    .dataframe tbody tr th {\n",
       "        vertical-align: top;\n",
       "    }\n",
       "\n",
       "    .dataframe thead th {\n",
       "        text-align: right;\n",
       "    }\n",
       "</style>\n",
       "<table border=\"1\" class=\"dataframe\">\n",
       "  <thead>\n",
       "    <tr style=\"text-align: right;\">\n",
       "      <th></th>\n",
       "      <th>country</th>\n",
       "      <th>prostitutionStatus</th>\n",
       "      <th>population</th>\n",
       "      <th>prostitutesPer10K</th>\n",
       "      <th>region</th>\n",
       "      <th>gdp</th>\n",
       "      <th>literacy</th>\n",
       "      <th>pplGrowth</th>\n",
       "      <th>agriculture</th>\n",
       "      <th>hpi</th>\n",
       "    </tr>\n",
       "  </thead>\n",
       "  <tbody>\n",
       "    <tr>\n",
       "      <td>0</td>\n",
       "      <td>Afghanistan</td>\n",
       "      <td>1</td>\n",
       "      <td>38041.754</td>\n",
       "      <td>4</td>\n",
       "      <td>Asia</td>\n",
       "      <td>700</td>\n",
       "      <td>36</td>\n",
       "      <td>26</td>\n",
       "      <td>0.38</td>\n",
       "      <td>20.2253</td>\n",
       "    </tr>\n",
       "    <tr>\n",
       "      <td>1</td>\n",
       "      <td>Albania</td>\n",
       "      <td>1</td>\n",
       "      <td>2880.917</td>\n",
       "      <td>60</td>\n",
       "      <td>Europe</td>\n",
       "      <td>4500</td>\n",
       "      <td>86.5</td>\n",
       "      <td>10</td>\n",
       "      <td>0.232</td>\n",
       "      <td>36.7669</td>\n",
       "    </tr>\n",
       "    <tr>\n",
       "      <td>2</td>\n",
       "      <td>Angola</td>\n",
       "      <td>1</td>\n",
       "      <td>31825.295</td>\n",
       "      <td>12</td>\n",
       "      <td>Africa</td>\n",
       "      <td>1900</td>\n",
       "      <td>42</td>\n",
       "      <td>21</td>\n",
       "      <td>0.096</td>\n",
       "      <td>35.1902</td>\n",
       "    </tr>\n",
       "    <tr>\n",
       "      <td>3</td>\n",
       "      <td>Antigua and Barbuda</td>\n",
       "      <td>1</td>\n",
       "      <td>97.118</td>\n",
       "      <td>75</td>\n",
       "      <td>SouthAmerica</td>\n",
       "      <td>11200</td>\n",
       "      <td>97.1</td>\n",
       "      <td>9</td>\n",
       "      <td>0.095</td>\n",
       "      <td>27.88</td>\n",
       "    </tr>\n",
       "    <tr>\n",
       "      <td>4</td>\n",
       "      <td>Argentina</td>\n",
       "      <td>6</td>\n",
       "      <td>44780.677</td>\n",
       "      <td>18</td>\n",
       "      <td>SouthAmerica</td>\n",
       "      <td>18416</td>\n",
       "      <td>99.0</td>\n",
       "      <td>10.66</td>\n",
       "      <td>None</td>\n",
       "      <td>59.23</td>\n",
       "    </tr>\n",
       "  </tbody>\n",
       "</table>\n",
       "</div>"
      ],
      "text/plain": [
       "               country prostitutionStatus  population prostitutesPer10K  \\\n",
       "0          Afghanistan                  1   38041.754                 4   \n",
       "1              Albania                  1    2880.917                60   \n",
       "2               Angola                  1   31825.295                12   \n",
       "3  Antigua and Barbuda                  1      97.118                75   \n",
       "4            Argentina                  6   44780.677                18   \n",
       "\n",
       "         region    gdp literacy pplGrowth agriculture      hpi  \n",
       "0          Asia    700       36        26        0.38  20.2253  \n",
       "1        Europe   4500     86.5        10       0.232  36.7669  \n",
       "2        Africa   1900       42        21       0.096  35.1902  \n",
       "3  SouthAmerica  11200     97.1         9       0.095    27.88  \n",
       "4  SouthAmerica  18416     99.0     10.66        None    59.23  "
      ]
     },
     "execution_count": 33,
     "metadata": {},
     "output_type": "execute_result"
    }
   ],
   "source": [
    "newStatus = {'Illegal': '1', \n",
    "              'Legal': '2', \n",
    "              'Abolitionism': '3', \n",
    "              'Neo-abolitionism': '4', \n",
    "              'Decriminalization': '5',\n",
    "              'Legality varies with local laws': '6',\n",
    "              'Legality varies with local law': '6'}\n",
    "for i in range(len(prStatusByCounry[\"region\"])):\n",
    "    prStatusByCounry[\"region\"][i] = prStatusByCounry[\"region\"][i].strip()\n",
    "    \n",
    "newRegion = {'ASIA (EX. NEAR EAST)': 'Asia', \n",
    "              'EASTERN EUROPE': 'Europe', \n",
    "              'SUB-SAHARAN AFRICA': 'Africa', \n",
    "              'LATIN AMER. & CARIB': 'SouthAmerica', \n",
    "              'C.W. OF IND. STATES': 'Asia',\n",
    "              'OCEANIA': 'Australia', \n",
    "              'WESTERN EUROPE': 'Europe', \n",
    "              'NORTHERN AMERICA': 'NorthAmerica', \n",
    "              'NEAR EAST': 'Asia',\n",
    "              'BALTICS': 'Europe',\n",
    "            'NORTHERN AFRICA' : 'Africa',\n",
    "            'Austria': 'Australia'}\n",
    "prStatusByCounry = prStatusByCounry.replace({\"prostitutionStatus\": newStatus, \"region\": newRegion})\n",
    "prStatusByCounry.head()"
   ]
  },
  {
   "cell_type": "code",
   "execution_count": 34,
   "metadata": {},
   "outputs": [
    {
     "data": {
      "text/html": [
       "<div>\n",
       "<style scoped>\n",
       "    .dataframe tbody tr th:only-of-type {\n",
       "        vertical-align: middle;\n",
       "    }\n",
       "\n",
       "    .dataframe tbody tr th {\n",
       "        vertical-align: top;\n",
       "    }\n",
       "\n",
       "    .dataframe thead th {\n",
       "        text-align: right;\n",
       "    }\n",
       "</style>\n",
       "<table border=\"1\" class=\"dataframe\">\n",
       "  <thead>\n",
       "    <tr style=\"text-align: right;\">\n",
       "      <th></th>\n",
       "      <th>country</th>\n",
       "      <th>prostitutionStatus</th>\n",
       "      <th>population</th>\n",
       "      <th>prostitutesPer10K</th>\n",
       "      <th>region</th>\n",
       "      <th>gdp</th>\n",
       "      <th>literacy</th>\n",
       "      <th>pplGrowth</th>\n",
       "      <th>agriculture</th>\n",
       "      <th>hpi</th>\n",
       "    </tr>\n",
       "  </thead>\n",
       "  <tbody>\n",
       "    <tr>\n",
       "      <td>0</td>\n",
       "      <td>Afghanistan</td>\n",
       "      <td>1</td>\n",
       "      <td>38041.754</td>\n",
       "      <td>4</td>\n",
       "      <td>Asia</td>\n",
       "      <td>700</td>\n",
       "      <td>36</td>\n",
       "      <td>26</td>\n",
       "      <td>0.38</td>\n",
       "      <td>20.2253</td>\n",
       "    </tr>\n",
       "    <tr>\n",
       "      <td>1</td>\n",
       "      <td>Albania</td>\n",
       "      <td>1</td>\n",
       "      <td>2880.917</td>\n",
       "      <td>60</td>\n",
       "      <td>Europe</td>\n",
       "      <td>4500</td>\n",
       "      <td>86.5</td>\n",
       "      <td>10</td>\n",
       "      <td>0.232</td>\n",
       "      <td>36.7669</td>\n",
       "    </tr>\n",
       "    <tr>\n",
       "      <td>2</td>\n",
       "      <td>Angola</td>\n",
       "      <td>1</td>\n",
       "      <td>31825.295</td>\n",
       "      <td>12</td>\n",
       "      <td>Africa</td>\n",
       "      <td>1900</td>\n",
       "      <td>42</td>\n",
       "      <td>21</td>\n",
       "      <td>0.096</td>\n",
       "      <td>35.1902</td>\n",
       "    </tr>\n",
       "    <tr>\n",
       "      <td>3</td>\n",
       "      <td>Antigua and Barbuda</td>\n",
       "      <td>1</td>\n",
       "      <td>97.118</td>\n",
       "      <td>75</td>\n",
       "      <td>SouthAmerica</td>\n",
       "      <td>11200</td>\n",
       "      <td>97.1</td>\n",
       "      <td>9</td>\n",
       "      <td>0.095</td>\n",
       "      <td>27.88</td>\n",
       "    </tr>\n",
       "    <tr>\n",
       "      <td>4</td>\n",
       "      <td>Argentina</td>\n",
       "      <td>6</td>\n",
       "      <td>44780.677</td>\n",
       "      <td>18</td>\n",
       "      <td>SouthAmerica</td>\n",
       "      <td>18416</td>\n",
       "      <td>99.0</td>\n",
       "      <td>10.66</td>\n",
       "      <td>NaN</td>\n",
       "      <td>59.23</td>\n",
       "    </tr>\n",
       "    <tr>\n",
       "      <td>...</td>\n",
       "      <td>...</td>\n",
       "      <td>...</td>\n",
       "      <td>...</td>\n",
       "      <td>...</td>\n",
       "      <td>...</td>\n",
       "      <td>...</td>\n",
       "      <td>...</td>\n",
       "      <td>...</td>\n",
       "      <td>...</td>\n",
       "      <td>...</td>\n",
       "    </tr>\n",
       "    <tr>\n",
       "      <td>95</td>\n",
       "      <td>United Arab Emirates</td>\n",
       "      <td>1</td>\n",
       "      <td>9770.529</td>\n",
       "      <td>32</td>\n",
       "      <td>SouthAmerica</td>\n",
       "      <td>16243</td>\n",
       "      <td>99.0</td>\n",
       "      <td>6.16</td>\n",
       "      <td>NaN</td>\n",
       "      <td>31.9093</td>\n",
       "    </tr>\n",
       "    <tr>\n",
       "      <td>96</td>\n",
       "      <td>United Kingdom</td>\n",
       "      <td>3</td>\n",
       "      <td>67530.172</td>\n",
       "      <td>11</td>\n",
       "      <td>Europe</td>\n",
       "      <td>27700</td>\n",
       "      <td>99</td>\n",
       "      <td>0</td>\n",
       "      <td>0.005</td>\n",
       "      <td>28.2</td>\n",
       "    </tr>\n",
       "    <tr>\n",
       "      <td>97</td>\n",
       "      <td>United States</td>\n",
       "      <td>1</td>\n",
       "      <td>329064.917</td>\n",
       "      <td>31</td>\n",
       "      <td>NorthAmerica</td>\n",
       "      <td>37800</td>\n",
       "      <td>97</td>\n",
       "      <td>6</td>\n",
       "      <td>0.01</td>\n",
       "      <td>36.1343</td>\n",
       "    </tr>\n",
       "    <tr>\n",
       "      <td>98</td>\n",
       "      <td>Uruguay</td>\n",
       "      <td>2</td>\n",
       "      <td>3461.734</td>\n",
       "      <td>24</td>\n",
       "      <td>SouthAmerica</td>\n",
       "      <td>12800</td>\n",
       "      <td>98</td>\n",
       "      <td>4</td>\n",
       "      <td>0.093</td>\n",
       "      <td>30.7</td>\n",
       "    </tr>\n",
       "    <tr>\n",
       "      <td>99</td>\n",
       "      <td>Venezuela</td>\n",
       "      <td>2</td>\n",
       "      <td>28515.829</td>\n",
       "      <td>150</td>\n",
       "      <td>SouthAmerica</td>\n",
       "      <td>4800</td>\n",
       "      <td>93.4</td>\n",
       "      <td>14</td>\n",
       "      <td>0.04</td>\n",
       "      <td>33.57</td>\n",
       "    </tr>\n",
       "  </tbody>\n",
       "</table>\n",
       "<p>100 rows × 10 columns</p>\n",
       "</div>"
      ],
      "text/plain": [
       "                 country prostitutionStatus  population prostitutesPer10K  \\\n",
       "0            Afghanistan                  1   38041.754                 4   \n",
       "1                Albania                  1    2880.917                60   \n",
       "2                 Angola                  1   31825.295                12   \n",
       "3    Antigua and Barbuda                  1      97.118                75   \n",
       "4              Argentina                  6   44780.677                18   \n",
       "..                   ...                ...         ...               ...   \n",
       "95  United Arab Emirates                  1    9770.529                32   \n",
       "96        United Kingdom                  3   67530.172                11   \n",
       "97         United States                  1  329064.917                31   \n",
       "98               Uruguay                  2    3461.734                24   \n",
       "99             Venezuela                  2   28515.829               150   \n",
       "\n",
       "          region    gdp literacy pplGrowth agriculture      hpi  \n",
       "0           Asia    700       36        26        0.38  20.2253  \n",
       "1         Europe   4500     86.5        10       0.232  36.7669  \n",
       "2         Africa   1900       42        21       0.096  35.1902  \n",
       "3   SouthAmerica  11200     97.1         9       0.095    27.88  \n",
       "4   SouthAmerica  18416     99.0     10.66         NaN    59.23  \n",
       "..           ...    ...      ...       ...         ...      ...  \n",
       "95  SouthAmerica  16243     99.0      6.16         NaN  31.9093  \n",
       "96        Europe  27700       99         0       0.005     28.2  \n",
       "97  NorthAmerica  37800       97         6        0.01  36.1343  \n",
       "98  SouthAmerica  12800       98         4       0.093     30.7  \n",
       "99  SouthAmerica   4800     93.4        14        0.04    33.57  \n",
       "\n",
       "[100 rows x 10 columns]"
      ]
     },
     "execution_count": 34,
     "metadata": {},
     "output_type": "execute_result"
    }
   ],
   "source": [
    "prStatusByCounry.replace(\"None\", \"NaN\")"
   ]
  },
  {
   "cell_type": "code",
   "execution_count": 35,
   "metadata": {},
   "outputs": [
    {
     "name": "stdout",
     "output_type": "stream",
     "text": [
      "['Africa', 'Asia', 'Australia', 'Europe', 'NorthAmerica', 'SouthAmerica']\n",
      "[9, 23, 2, 31, 2, 33]\n"
     ]
    },
    {
     "data": {
      "image/png": "[encoded data removed]",
      "text/plain": [
       "<Figure size 432x288 with 1 Axes>"
      ]
     },
     "metadata": {},
     "output_type": "display_data"
    }
   ],
   "source": [
    "regions = prStatusByCounry['region'].unique()\n",
    "group = prStatusByCounry.groupby(\"region\")[\"prostitutionStatus\"].count()\n",
    "print(list(dict(group).keys()))\n",
    "print(list(dict(group).values()))\n",
    "plt.pie(list(dict(group).values()), labels=list(dict(group).keys()), startangle=90, autopct='%.1f%%')\n",
    "plt.title('Countries Division by region')\n",
    "plt.show()"
   ]
  },
  {
   "cell_type": "code",
   "execution_count": 36,
   "metadata": {},
   "outputs": [
    {
     "name": "stdout",
     "output_type": "stream",
     "text": [
      "{'Africa': ['1', '1', '3', '6', '1', '1', '2', '1', '2'], 'Asia': ['1', '1', '1', '1', '1', '6', '3', '6', '1', '1', '3', '1', '1', '3', '3', '4', '1', '1', '6', '2', '1', '1', '1'], 'Australia': ['6', '5'], 'Europe': ['1', '2', '3', '3', '1', '3', '3', '3', '3', '4', '2', '2', '2', '4', '4', '3', '2', '1', '2', '3', '2', '1', '3', '3', '1', '3', '3', '1', '1', '4', '3'], 'NorthAmerica': ['4', '1'], 'SouthAmerica': ['1', '6', '2', '1', '4', '2', '3', '2', '2', '3', '3', '1', '3', '2', '6', '1', '3', '1', '1', '3', '1', '6', '3', '2', '3', '2', '1', '1', '1', '3', '1', '2', '2']}\n"
     ]
    }
   ],
   "source": [
    "unReg = list(dict(group).keys())\n",
    "prType = dict()\n",
    "for i in unReg:\n",
    "    typesInReg = []\n",
    "    for j in range(len(prStatusByCounry.region)):\n",
    "        if prStatusByCounry.region[j] == i:\n",
    "            typesInReg.append(prStatusByCounry.prostitutionStatus[j])\n",
    "    prType[i] = typesInReg\n",
    "print(prType)"
   ]
  },
  {
   "cell_type": "code",
   "execution_count": 37,
   "metadata": {},
   "outputs": [
    {
     "data": {
      "image/png": "[encoded data removed]",
      "text/plain": [
       "<Figure size 432x288 with 1 Axes>"
      ]
     },
     "metadata": {
      "needs_background": "light"
     },
     "output_type": "display_data"
    },
    {
     "data": {
      "image/png": "[encoded data removed]",
      "text/plain": [
       "<Figure size 432x288 with 1 Axes>"
      ]
     },
     "metadata": {
      "needs_background": "light"
     },
     "output_type": "display_data"
    },
    {
     "data": {
      "image/png": "[encoded data removed]",
      "text/plain": [
       "<Figure size 432x288 with 1 Axes>"
      ]
     },
     "metadata": {
      "needs_background": "light"
     },
     "output_type": "display_data"
    },
    {
     "data": {
      "image/png": "[encoded data removed]",
      "text/plain": [
       "<Figure size 432x288 with 1 Axes>"
      ]
     },
     "metadata": {
      "needs_background": "light"
     },
     "output_type": "display_data"
    },
    {
     "data": {
      "image/png": "[encoded data removed]",
      "text/plain": [
       "<Figure size 432x288 with 1 Axes>"
      ]
     },
     "metadata": {
      "needs_background": "light"
     },
     "output_type": "display_data"
    },
    {
     "data": {
      "image/png": "[encoded data removed]",
      "text/plain": [
       "<Figure size 432x288 with 1 Axes>"
      ]
     },
     "metadata": {
      "needs_background": "light"
     },
     "output_type": "display_data"
    }
   ],
   "source": [
    "cols = ['orange', \"red\", 'darkolivegreen', 'aqua', 'blue', \"magenta\"]\n",
    "a = 0\n",
    "for i in list(prType.keys()): \n",
    "    score_pk = prType[i]\n",
    "    plt.hist([score_pk], color=cols[a])\n",
    "    plt.xlabel(\"Prostitution Types in region\")\n",
    "    plt.ylabel(\"Quontity by Types\")\n",
    "    legend = [i]\n",
    "    plt.legend(legend)\n",
    "    plt.xticks(range(0, 7))\n",
    "    plt.yticks(range(1, 20))\n",
    "    plt.title('Prostitution Types / Region')\n",
    "    a+=1\n",
    "    plt.show()"
   ]
  },
  {
   "cell_type": "code",
   "execution_count": 38,
   "metadata": {},
   "outputs": [
    {
     "name": "stdout",
     "output_type": "stream",
     "text": [
      "{'Africa': ['12', '2', '2', '27', '2', '10', '14', '4', '13'], 'Asia': ['4', '17', '78', '22', '23', 'None', '5', '9', '11', 'None', '15', 'None', 'None', '12', '7', '6', '15', 'None', 'None', '24', '22', '7', 'None'], 'Australia': ['9', '13'], 'Europe': ['60', '34', '23', '14', '50', '12', '11', '7', '7', '5', '37', '11', '24', 'None', '2', '10', '150', '6', '5', 'None', '15', '10', '5', '27', '80', '40', '140', '148', '39', '3', '11'], 'NorthAmerica': ['None', '31'], 'SouthAmerica': ['75', '18', '9', 'None', 'None', '29', '26', 'None', '2', '31', '78', 'None', '75', '21', '32', 'None', '16', '69', '65', '25', '66', '19', '29', '13', '5', '21', 'None', 'None', 'None', '15', '32', '24', '150']}\n"
     ]
    }
   ],
   "source": [
    "unReg = list(dict(group).keys())\n",
    "prType = dict()\n",
    "for i in unReg:\n",
    "    typesInReg = []\n",
    "    for j in range(len(prStatusByCounry.region)):\n",
    "        if prStatusByCounry.region[j] == i:\n",
    "            typesInReg.append(prStatusByCounry.prostitutesPer10K[j])\n",
    "    prType[i] = typesInReg\n",
    "print(prType)"
   ]
  },
  {
   "cell_type": "code",
   "execution_count": 39,
   "metadata": {},
   "outputs": [
    {
     "data": {
      "text/plain": [
       "[[9.555555555555555], [17.3125], [11.0], [34.0], [31.0], [37.8]]"
      ]
     },
     "execution_count": 39,
     "metadata": {},
     "output_type": "execute_result"
    }
   ],
   "source": [
    "score = []\n",
    "a=0\n",
    "for i in list(prType.keys()):\n",
    "    tmp = []\n",
    "    for j in prType[i]:\n",
    "        if j == \"None\":\n",
    "            continue\n",
    "        tmp.append(int(j))\n",
    "    score.append(sum(tmp) / len(tmp))\n",
    "for i in range(len(score)):\n",
    "    a +=1\n",
    "    score[i] = [score[i]]\n",
    "score    "
   ]
  },
  {
   "cell_type": "code",
   "execution_count": 40,
   "metadata": {},
   "outputs": [
    {
     "data": {
      "image/png": "[encoded data removed]",
      "text/plain": [
       "<Figure size 1080x432 with 1 Axes>"
      ]
     },
     "metadata": {
      "needs_background": "light"
     },
     "output_type": "display_data"
    }
   ],
   "source": [
    "plt.figure(figsize=[15,6])\n",
    "plt.hist(score, color=['orange', \"red\", 'darkolivegreen', 'aqua', 'blue', \"magenta\"])\n",
    "plt.xlabel(\"mean Prostitution rate\")\n",
    "plt.ylabel(\"\")\n",
    "plt.legend(unReg)\n",
    "plt.xticks(range(0, 38))\n",
    "plt.yticks(range(1, 1))\n",
    "plt.title('Prostitution Per 10k Over region')\n",
    "plt.show()"
   ]
  },
  {
   "cell_type": "code",
   "execution_count": 41,
   "metadata": {},
   "outputs": [
    {
     "name": "stdout",
     "output_type": "stream",
     "text": [
      "['1', '2', '3', '4', '5', '6']\n",
      "[38, 19, 27, 7, 1, 8]\n"
     ]
    },
    {
     "data": {
      "image/png": "[encoded data removed]",
      "text/plain": [
       "<Figure size 432x288 with 1 Axes>"
      ]
     },
     "metadata": {},
     "output_type": "display_data"
    }
   ],
   "source": [
    "regions = prStatusByCounry['prostitutionStatus'].unique()\n",
    "group = prStatusByCounry.groupby(\"prostitutionStatus\")[\"prostitutesPer10K\"].count()\n",
    "unStatus = list(dict(group).keys())\n",
    "vals = list(dict(group).values())\n",
    "print(unStatus)\n",
    "print(vals)\n",
    "plt.pie(vals, labels=unStatus, startangle=90, autopct='%.1f%%')\n",
    "plt.title('%Prostitution types in world')\n",
    "plt.show()"
   ]
  },
  {
   "cell_type": "code",
   "execution_count": 42,
   "metadata": {},
   "outputs": [
    {
     "name": "stdout",
     "output_type": "stream",
     "text": [
      "{'1': ['4', '60', '12', '75', '17', '78', 'None', '22', '23', '50', 'None', '2', 'None', '69', '65', '11', 'None', '66', 'None', 'None', '2', '6', '10', '15', '80', '10', 'None', 'None', 'None', 'None', '4', '148', '39', '22', '7', 'None', '32', '31'], '2': ['34', '9', '29', 'None', '2', '21', '37', '11', '24', '150', '5', '15', '13', '21', '14', '24', '13', '24', '150'], '3': ['23', '26', '14', '31', '78', '12', '11', '75', '7', '2', '7', '16', '25', '5', '15', '10', '12', '7', 'None', '29', '5', '5', '27', '40', '140', '15', '11'], '4': ['None', 'None', '5', 'None', '2', '6', '3'], '5': ['13'], '6': ['18', '9', 'None', '32', '9', '27', '19', 'None']}\n",
      "[[35.56], [33.11], [24.92], [4.0], [13.0], [19.0]]\n"
     ]
    }
   ],
   "source": [
    "pr10k = dict()\n",
    "for i in unStatus:\n",
    "    typesInReg = []\n",
    "    for j in range(len(prStatusByCounry.prostitutionStatus)):\n",
    "        if prStatusByCounry.prostitutionStatus[j] == i:\n",
    "            typesInReg.append(prStatusByCounry.prostitutesPer10K[j])\n",
    "    pr10k[i] = typesInReg\n",
    "print(pr10k)\n",
    "score = []\n",
    "a=0\n",
    "for i in list(pr10k.keys()):\n",
    "    tmp = []\n",
    "    for j in pr10k[i]:\n",
    "        if j == \"None\":\n",
    "            continue\n",
    "        tmp.append(int(j))\n",
    "    score.append(round(sum(tmp) / len(tmp), 2))\n",
    "for i in range(len(score)):\n",
    "    a +=1\n",
    "    score[i] = [score[i]]    \n",
    "print(score)\n"
   ]
  },
  {
   "cell_type": "code",
   "execution_count": 43,
   "metadata": {},
   "outputs": [
    {
     "data": {
      "image/png": "[encoded data removed]",
      "text/plain": [
       "<Figure size 1080x432 with 1 Axes>"
      ]
     },
     "metadata": {
      "needs_background": "light"
     },
     "output_type": "display_data"
    }
   ],
   "source": [
    "plt.figure(figsize=[15,6])\n",
    "plt.hist(score, color=['orange', \"red\", 'darkolivegreen', 'aqua', 'blue', \"magenta\"])\n",
    "plt.xlabel(\"mean Prostitution rate\")\n",
    "plt.ylabel(\"\")\n",
    "plt.legend(unStatus)\n",
    "plt.xticks(range(0, 36))\n",
    "plt.yticks(range(1, 1))\n",
    "plt.title('Prostitution Per 10k Over types')\n",
    "plt.show()"
   ]
  },
  {
   "cell_type": "code",
   "execution_count": 44,
   "metadata": {},
   "outputs": [],
   "source": [
    "\n",
    "gdpD = dict()\n",
    "literacyD = dict()\n",
    "pplGrowthD = dict()\n",
    "agricultureD = dict()\n",
    "hpiD = dict()\n",
    "\n",
    "for i in unStatus:\n",
    "    \n",
    "    gdp= []\n",
    "    literacy= []\n",
    "    pplGrowth= []\n",
    "    agriculture= []\n",
    "    hpi= []\n",
    "\n",
    "    for j in range(len(prStatusByCounry.prostitutionStatus)):\n",
    "        if prStatusByCounry.prostitutionStatus[j] == i:\n",
    "            gdp.append(prStatusByCounry.gdp[j])\n",
    "            literacy.append(prStatusByCounry.literacy[j])\n",
    "            pplGrowth.append(prStatusByCounry.pplGrowth[j])\n",
    "            agriculture.append(prStatusByCounry.agriculture[j])\n",
    "            hpi.append(prStatusByCounry.hpi[j])\n",
    "            \n",
    "    gdpD[i] = gdp\n",
    "    literacyD[i] = literacy\n",
    "    pplGrowthD[i] = pplGrowth\n",
    "    agricultureD[i] = agriculture\n",
    "    hpiD[i] =  hpi\n"
   ]
  },
  {
   "cell_type": "code",
   "execution_count": 68,
   "metadata": {},
   "outputs": [
    {
     "name": "stdout",
     "output_type": "stream",
     "text": [
      "[[10489.13], [14773.79], [12370.37], [22357.14], [21600.0], [13539.5]]\n"
     ]
    },
    {
     "data": {
      "image/png": "[encoded data removed]",
      "text/plain": [
       "<Figure size 1080x432 with 1 Axes>"
      ]
     },
     "metadata": {
      "needs_background": "light"
     },
     "output_type": "display_data"
    }
   ],
   "source": [
    "score1 = []\n",
    "a=0\n",
    "for i in list(gdpD.keys()):\n",
    "    tmp = []\n",
    "    for j in gdpD[i]:\n",
    "        if j == \"None\":\n",
    "            continue\n",
    "        tmp.append(int(j))\n",
    "    score1.append(round(sum(tmp) / len(tmp), 2))\n",
    "for i in range(len(score1)):\n",
    "    a +=1\n",
    "    score1[i] = [score1[i]]    \n",
    "print(score1)\n",
    "\n",
    "plt.figure(figsize=[15,6])\n",
    "plt.hist(score1, color=['orange', \"red\", 'darkolivegreen', 'aqua', 'blue', \"magenta\"])\n",
    "plt.xlabel(\"mean GDP rate\")\n",
    "plt.ylabel(\"\")\n",
    "plt.legend(unStatus)\n",
    "plt.xticks(range(0, 36))\n",
    "plt.yticks(range(1, 1))\n",
    "plt.title('Prostitution type over GDP')\n",
    "plt.show()"
   ]
  },
  {
   "cell_type": "code",
   "execution_count": 71,
   "metadata": {},
   "outputs": [
    {
     "name": "stdout",
     "output_type": "stream",
     "text": [
      "[[82.3], [91.04], [89.55], [98.14], [99.0], [91.81]]\n"
     ]
    },
    {
     "data": {
      "image/png": "[encoded data removed]",
      "text/plain": [
       "<Figure size 1080x432 with 1 Axes>"
      ]
     },
     "metadata": {
      "needs_background": "light"
     },
     "output_type": "display_data"
    }
   ],
   "source": [
    "from math import isnan\n",
    "score2 = []\n",
    "a=0\n",
    "for i in list(literacyD.keys()):\n",
    "    tmp = []\n",
    "    for j in literacyD[i]:\n",
    "        if j == \"None\" or (i == \"3\" and literacyD[i].index(j) == 23):\n",
    "            continue\n",
    "        tmp.append(float(j))\n",
    "    score2.append(round(sum(tmp) / len(tmp), 2))\n",
    "for i in range(len(score2)):\n",
    "    a +=1\n",
    "    score2[i] = [score2[i]]    \n",
    "print(score2)\n",
    "\n",
    "plt.figure(figsize=[15,6])\n",
    "plt.hist(score2, color=['orange', \"red\", 'darkolivegreen', 'aqua', 'blue', \"magenta\"])\n",
    "plt.xlabel(\"mean literacy rate\")\n",
    "plt.ylabel(\"\")\n",
    "plt.legend(unStatus)\n",
    "plt.xticks(range(82, 100))\n",
    "plt.yticks(range(1, 1))\n",
    "plt.title('Prostitution type over literacy')\n",
    "plt.show()"
   ]
  },
  {
   "cell_type": "code",
   "execution_count": 74,
   "metadata": {},
   "outputs": [
    {
     "name": "stdout",
     "output_type": "stream",
     "text": [
      "[[11.13], [9.12], [8.19], [6.71], [6.0], [12.71]]\n"
     ]
    },
    {
     "data": {
      "image/png": "[encoded data removed]",
      "text/plain": [
       "<Figure size 1080x432 with 1 Axes>"
      ]
     },
     "metadata": {
      "needs_background": "light"
     },
     "output_type": "display_data"
    }
   ],
   "source": [
    "from math import isnan\n",
    "score3 = []\n",
    "a=0\n",
    "for i in list(pplGrowthD.keys()):\n",
    "    tmp = []\n",
    "    for j in pplGrowthD[i]:\n",
    "        if j == \"None\" :\n",
    "            continue\n",
    "        tmp.append(float(j))\n",
    "    score3.append(round(sum(tmp) / len(tmp), 2))\n",
    "for i in range(len(score2)):\n",
    "    a +=1\n",
    "    score3[i] = [score3[i]]    \n",
    "print(score3)\n",
    "\n",
    "plt.figure(figsize=[15,6])\n",
    "plt.hist(score3, color=['orange', \"red\", 'darkolivegreen', 'aqua', 'blue', \"magenta\"])\n",
    "plt.xlabel(\"mean PPL growth rate\")\n",
    "plt.ylabel(\"\")\n",
    "plt.legend(unStatus)\n",
    "plt.xticks(range(6, 13))\n",
    "plt.yticks(range(1, 1))\n",
    "plt.title('Prostitution type over PPL growth')\n",
    "plt.show()"
   ]
  },
  {
   "cell_type": "code",
   "execution_count": 83,
   "metadata": {},
   "outputs": [
    {
     "name": "stdout",
     "output_type": "stream",
     "text": [
      "[[15.0], [8.0], [10.0], [6.0], [4.0], [7.000000000000001]]\n"
     ]
    },
    {
     "data": {
      "image/png": "[encoded data removed]",
      "text/plain": [
       "<Figure size 1080x432 with 1 Axes>"
      ]
     },
     "metadata": {
      "needs_background": "light"
     },
     "output_type": "display_data"
    }
   ],
   "source": [
    "\n",
    "score4 = []\n",
    "a=0\n",
    "for i in list(agricultureD.keys()):\n",
    "    tmp = []\n",
    "    for j in agricultureD[i]:\n",
    "        if j == \"None\" :\n",
    "            continue\n",
    "        tmp.append(float(j))\n",
    "    score4.append(round(sum(tmp) / len(tmp), 2))\n",
    "for i in range(len(score4)):\n",
    "    a +=1\n",
    "    score4[i] = [score4[i] * 100]    \n",
    "print(score4)\n",
    "\n",
    "plt.figure(figsize=[15,6])\n",
    "plt.hist(score4, color=['orange', \"red\", 'darkolivegreen', 'aqua', 'blue', \"magenta\"])\n",
    "plt.xlabel(\"mean agriculture rate\")\n",
    "plt.ylabel(\"\")\n",
    "plt.legend(unStatus)\n",
    "plt.xticks(range(1, 15))\n",
    "plt.yticks(range(1, 1))\n",
    "plt.title('Prostitution type over agriculture')\n",
    "plt.show()"
   ]
  },
  {
   "cell_type": "code",
   "execution_count": 88,
   "metadata": {},
   "outputs": [
    {
     "name": "stdout",
     "output_type": "stream",
     "text": [
      "[[30.59], [32.22], [31.72], [29.55], [31.26], [42.15]]\n"
     ]
    },
    {
     "data": {
      "image/png": "[encoded data removed]",
      "text/plain": [
       "<Figure size 1080x432 with 1 Axes>"
      ]
     },
     "metadata": {
      "needs_background": "light"
     },
     "output_type": "display_data"
    }
   ],
   "source": [
    "score5 = []\n",
    "a=0\n",
    "for i in list(hpiD.keys()):\n",
    "    tmp = []\n",
    "    for j in hpiD[i]:\n",
    "        if j == \"None\" :\n",
    "            continue\n",
    "        tmp.append(float(j))\n",
    "    score5.append(round(sum(tmp) / len(tmp), 2))\n",
    "for i in range(len(score5)):\n",
    "    a +=1\n",
    "    score5[i] = [score5[i] ]    \n",
    "print(score5)\n",
    "\n",
    "plt.figure(figsize=[15,6])\n",
    "plt.hist(score5, color=['orange', \"red\", 'darkolivegreen', 'aqua', 'blue', \"magenta\"])\n",
    "plt.xlabel(\"mean hpi rate\")\n",
    "plt.ylabel(\"\")\n",
    "plt.legend(unStatus)\n",
    "plt.xticks(range(30, 45))\n",
    "plt.yticks(range(1, 1))\n",
    "plt.title('Prostitution type over hpi')\n",
    "plt.show()"
   ]
  },
  {
   "cell_type": "code",
   "execution_count": 127,
   "metadata": {},
   "outputs": [],
   "source": [
    "\n",
    "df1 = pd.DataFrame()\n",
    "df2 = pd.DataFrame()\n",
    "df3 = pd.DataFrame()\n",
    "\n",
    "for j in range(len(prStatusByCounry.prostitutesPer10K)):\n",
    "    if prStatusByCounry.prostitutesPer10K[j] == \"None\":\n",
    "        continue\n",
    "    if int(prStatusByCounry.prostitutesPer10K[j]) <= 15:\n",
    "        df1 = df1.append(prStatusByCounry.iloc[[j]])\n",
    "    if 30 >= int(prStatusByCounry.prostitutesPer10K[j]) > 15:\n",
    "        df2 = df2.append(prStatusByCounry.iloc[[j]])\n",
    "    if int(prStatusByCounry.prostitutesPer10K[j]) > 30:\n",
    "        df3 = df3.append(prStatusByCounry.iloc[[j]])"
   ]
  },
  {
   "cell_type": "code",
   "execution_count": 137,
   "metadata": {},
   "outputs": [
    {
     "data": {
      "image/png": "[encoded data removed]",
      "text/plain": [
       "<Figure size 432x288 with 1 Axes>"
      ]
     },
     "metadata": {},
     "output_type": "display_data"
    }
   ],
   "source": [
    "plt.pie([len(df1.country), len(df2.country), len(df3.country)], labels=[\"<15\", \"15-30\", \"30<\"], startangle=90, autopct='%.1f%%')\n",
    "plt.title('Prostitution Number per 10k in 3 groups')\n",
    "plt.show()"
   ]
  },
  {
   "cell_type": "code",
   "execution_count": 192,
   "metadata": {},
   "outputs": [],
   "source": [
    "gdp= []\n",
    "literacy= []\n",
    "pplGrowth= []\n",
    "agriculture= []\n",
    "hpi= []\n",
    "\n",
    "def work(df):\n",
    "    gdp.clear()\n",
    "    literacy.clear()\n",
    "    agriculture.clear()\n",
    "    pplGrowth.clear()\n",
    "    hpi.clear()\n",
    "    for a in df.gdp:\n",
    "        if a != \"None\":\n",
    "            gdp.append(round(int(a)))\n",
    "    for b in df.literacy:\n",
    "        if b != \"None\" and ( list(df.literacy).index(b) != 15):\n",
    "            literacy.append(round(float(b)))\n",
    "    for c in df.pplGrowth:\n",
    "        if c != \"None\":\n",
    "            pplGrowth.append(round(float(c)))\n",
    "    for d in df.agriculture:\n",
    "        if d != \"None\":\n",
    "            agriculture.append(round(float(d)))\n",
    "    for i in df.hpi:\n",
    "        if i != \"None\":\n",
    "            hpi.append(round(float(i)))\n",
    "        \n",
    "work(df1)\n"
   ]
  },
  {
   "cell_type": "code",
   "execution_count": 193,
   "metadata": {},
   "outputs": [],
   "source": [
    "gdpmeans = []\n",
    "literacymeans = []\n",
    "pplGrowthmeans = []\n",
    "agriculturemeans =[]\n",
    "hpimeans =[]\n",
    "\n",
    "def collectMeans(df):\n",
    "    work(df)\n",
    "    gdpmeans.append(round(sum(gdp)/len(gdp), 2))\n",
    "    literacymeans.append(round(sum(literacy)/len(literacy), 2))\n",
    "    pplGrowthmeans.append(round(sum(pplGrowth)/len(pplGrowth), 2))\n",
    "    agriculturemeans.append(round(sum(agriculture)/len(agriculture), 2))\n",
    "    hpimeans.append(round(sum(hpi)/len(hpi), 2))\n",
    "    \n",
    "collectMeans(df1)    \n",
    "collectMeans(df2)\n",
    "collectMeans(df3)   "
   ]
  },
  {
   "cell_type": "code",
   "execution_count": 194,
   "metadata": {},
   "outputs": [
    {
     "name": "stdout",
     "output_type": "stream",
     "text": [
      "[14326.88, 9412.95, 12511.05]\n",
      "[86.23, 87.88, 90.62]\n",
      "[9.63, 11.26, 7.32]\n",
      "[0.03, 0.0, 0.0]\n",
      "[28.73, 35.95, 32.76]\n"
     ]
    }
   ],
   "source": [
    "print(gdpmeans)\n",
    "print(literacymeans)\n",
    "print(pplGrowthmeans)\n",
    "print(agriculturemeans)\n",
    "print(hpimeans)\n",
    "\n",
    "    "
   ]
  },
  {
   "cell_type": "code",
   "execution_count": 195,
   "metadata": {},
   "outputs": [],
   "source": [
    "  def barplot(x_data, y_data, x_label=\"\", y_label=\"\", title=\"\"):\n",
    "    _, ax = plt.subplots()\n",
    "    # Draw bars, position them in the center of the tick mark on the x-axis\n",
    "    ax.bar(x_data, y_data, color = '#539caf', align = 'center')\n",
    "    # Draw error bars to show standard deviation, set ls to 'none'\n",
    "    # to remove line between points\n",
    "    #ax.errorbar(x_data, y_data, yerr = error_data, color = '#297083', ls = 'none', lw = 2, capthick = 2)\n",
    "    ax.set_ylabel(y_label)\n",
    "    ax.set_xlabel(x_label)\n",
    "    ax.set_title(title)"
   ]
  },
  {
   "cell_type": "code",
   "execution_count": 196,
   "metadata": {},
   "outputs": [
    {
     "data": {
      "image/png": "[encoded data removed]",
      "text/plain": [
       "<Figure size 432x288 with 1 Axes>"
      ]
     },
     "metadata": {
      "needs_background": "light"
     },
     "output_type": "display_data"
    }
   ],
   "source": [
    "unNum = [\"<15\", \"15-30\", \"30<\"]\n",
    "barplot(unNum, gdpmeans, \"Prostitutinon Groups\", \"mean GDP\",\"Prostitutes Number per 10k / GDP\")\n"
   ]
  },
  {
   "cell_type": "code",
   "execution_count": 197,
   "metadata": {},
   "outputs": [
    {
     "data": {
      "image/png": "[encoded data removed]",
      "text/plain": [
       "<Figure size 432x288 with 1 Axes>"
      ]
     },
     "metadata": {
      "needs_background": "light"
     },
     "output_type": "display_data"
    }
   ],
   "source": [
    "barplot(unNum, literacymeans, \"Prostitutinon Groups\", \"mean literacy\",\"Prostitutes Number per 10k / literacy\")"
   ]
  },
  {
   "cell_type": "code",
   "execution_count": 198,
   "metadata": {},
   "outputs": [
    {
     "data": {
      "image/png": "[encoded data removed]",
      "text/plain": [
       "<Figure size 432x288 with 1 Axes>"
      ]
     },
     "metadata": {
      "needs_background": "light"
     },
     "output_type": "display_data"
    }
   ],
   "source": [
    "barplot(unNum, pplGrowthmeans, \"Prostitutinon Groups\", \"mean pplGrowth\",\"Prostitutes Number per 10k / pplGrowth\")"
   ]
  },
  {
   "cell_type": "code",
   "execution_count": 199,
   "metadata": {},
   "outputs": [
    {
     "data": {
      "image/png": "[encoded data removed]",
      "text/plain": [
       "<Figure size 432x288 with 1 Axes>"
      ]
     },
     "metadata": {
      "needs_background": "light"
     },
     "output_type": "display_data"
    }
   ],
   "source": [
    "barplot(unNum, agriculturemeans, \"Prostitutinon Groups\", \"mean agriculture\",\"Prostitutes Number per 10k / agriculture\")"
   ]
  },
  {
   "cell_type": "code",
   "execution_count": 200,
   "metadata": {},
   "outputs": [
    {
     "data": {
      "image/png": "[encoded data removed]",
      "text/plain": [
       "<Figure size 432x288 with 1 Axes>"
      ]
     },
     "metadata": {
      "needs_background": "light"
     },
     "output_type": "display_data"
    }
   ],
   "source": [
    "barplot(unNum, hpimeans, \"Prostitutinon Groups\", \"mean hpi\",\"Prostitutes Number per 10k / hpi\")"
   ]
  },
  {
   "cell_type": "code",
   "execution_count": null,
   "metadata": {},
   "outputs": [],
   "source": []
  }
 ],
 "metadata": {
  "kernelspec": {
   "display_name": "Python 3",
   "language": "python",
   "name": "python3"
  },
  "language_info": {
   "codemirror_mode": {
    "name": "ipython",
    "version": 3
   },
   "file_extension": ".py",
   "mimetype": "text/x-python",
   "name": "python",
   "nbconvert_exporter": "python",
   "pygments_lexer": "ipython3",
   "version": "3.6.4"
  }
 },
 "nbformat": 4,
 "nbformat_minor": 2
}
